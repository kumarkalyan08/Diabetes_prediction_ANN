{
 "cells": [
  {
   "cell_type": "markdown",
   "id": "1e2aab4a-bd9b-4a95-91fd-dabf5bb4df53",
   "metadata": {},
   "source": [
    "## Predicting Diabetes Risk with Deep Learning"
   ]
  },
  {
   "cell_type": "code",
   "execution_count": 32,
   "id": "69c98abb-31dc-4fa5-a7a7-1422a6e45726",
   "metadata": {},
   "outputs": [],
   "source": [
    "#import all the required libraries\n",
    "\n",
    "import pandas as pd\n",
    "import numpy as np\n",
    "import matplotlib.pyplot as plt\n",
    "import seaborn as sns\n",
    "\n",
    "from sklearn.model_selection import train_test_split\n",
    "from sklearn.preprocessing import StandardScaler\n",
    "from sklearn.metrics import classification_report, confusion_matrix, roc_auc_score, roc_curve, accuracy_score\n",
    "\n",
    "import tensorflow as tf\n",
    "from tensorflow.keras.models import Sequential\n",
    "from tensorflow.keras.layers import Dense, Dropout\n",
    "from tensorflow.keras.optimizers import Adam\n",
    "from tensorflow.keras.callbacks import EarlyStopping, ModelCheckpoint\n",
    "from tensorflow.keras.utils import plot_model\n"
   ]
  },
  {
   "cell_type": "code",
   "execution_count": 33,
   "id": "8847607d-ef3b-4e33-b290-32be084cdbcf",
   "metadata": {},
   "outputs": [],
   "source": [
    "df = pd.read_csv(\"https://raw.githubusercontent.com/jbrownlee/Datasets/master/pima-indians-diabetes.data.csv\",\n",
    "                 names=[\"Pregnancies\", \"Glucose\", \"BloodPressure\", \"SkinThickness\", \"Insulin\", \n",
    "                        \"BMI\", \"DiabetesPedigreeFunction\", \"Age\", \"Outcome\"])\n",
    "\n",
    "\n"
   ]
  },
  {
   "cell_type": "code",
   "execution_count": 34,
   "id": "6640c0b8-233e-43d6-b733-ed771478bb2e",
   "metadata": {},
   "outputs": [
    {
     "data": {
      "text/html": [
       "<div>\n",
       "<style scoped>\n",
       "    .dataframe tbody tr th:only-of-type {\n",
       "        vertical-align: middle;\n",
       "    }\n",
       "\n",
       "    .dataframe tbody tr th {\n",
       "        vertical-align: top;\n",
       "    }\n",
       "\n",
       "    .dataframe thead th {\n",
       "        text-align: right;\n",
       "    }\n",
       "</style>\n",
       "<table border=\"1\" class=\"dataframe\">\n",
       "  <thead>\n",
       "    <tr style=\"text-align: right;\">\n",
       "      <th></th>\n",
       "      <th>Pregnancies</th>\n",
       "      <th>Glucose</th>\n",
       "      <th>BloodPressure</th>\n",
       "      <th>SkinThickness</th>\n",
       "      <th>Insulin</th>\n",
       "      <th>BMI</th>\n",
       "      <th>DiabetesPedigreeFunction</th>\n",
       "      <th>Age</th>\n",
       "      <th>Outcome</th>\n",
       "    </tr>\n",
       "  </thead>\n",
       "  <tbody>\n",
       "    <tr>\n",
       "      <th>0</th>\n",
       "      <td>6</td>\n",
       "      <td>148</td>\n",
       "      <td>72</td>\n",
       "      <td>35</td>\n",
       "      <td>0</td>\n",
       "      <td>33.6</td>\n",
       "      <td>0.627</td>\n",
       "      <td>50</td>\n",
       "      <td>1</td>\n",
       "    </tr>\n",
       "    <tr>\n",
       "      <th>1</th>\n",
       "      <td>1</td>\n",
       "      <td>85</td>\n",
       "      <td>66</td>\n",
       "      <td>29</td>\n",
       "      <td>0</td>\n",
       "      <td>26.6</td>\n",
       "      <td>0.351</td>\n",
       "      <td>31</td>\n",
       "      <td>0</td>\n",
       "    </tr>\n",
       "    <tr>\n",
       "      <th>2</th>\n",
       "      <td>8</td>\n",
       "      <td>183</td>\n",
       "      <td>64</td>\n",
       "      <td>0</td>\n",
       "      <td>0</td>\n",
       "      <td>23.3</td>\n",
       "      <td>0.672</td>\n",
       "      <td>32</td>\n",
       "      <td>1</td>\n",
       "    </tr>\n",
       "    <tr>\n",
       "      <th>3</th>\n",
       "      <td>1</td>\n",
       "      <td>89</td>\n",
       "      <td>66</td>\n",
       "      <td>23</td>\n",
       "      <td>94</td>\n",
       "      <td>28.1</td>\n",
       "      <td>0.167</td>\n",
       "      <td>21</td>\n",
       "      <td>0</td>\n",
       "    </tr>\n",
       "    <tr>\n",
       "      <th>4</th>\n",
       "      <td>0</td>\n",
       "      <td>137</td>\n",
       "      <td>40</td>\n",
       "      <td>35</td>\n",
       "      <td>168</td>\n",
       "      <td>43.1</td>\n",
       "      <td>2.288</td>\n",
       "      <td>33</td>\n",
       "      <td>1</td>\n",
       "    </tr>\n",
       "    <tr>\n",
       "      <th>...</th>\n",
       "      <td>...</td>\n",
       "      <td>...</td>\n",
       "      <td>...</td>\n",
       "      <td>...</td>\n",
       "      <td>...</td>\n",
       "      <td>...</td>\n",
       "      <td>...</td>\n",
       "      <td>...</td>\n",
       "      <td>...</td>\n",
       "    </tr>\n",
       "    <tr>\n",
       "      <th>763</th>\n",
       "      <td>10</td>\n",
       "      <td>101</td>\n",
       "      <td>76</td>\n",
       "      <td>48</td>\n",
       "      <td>180</td>\n",
       "      <td>32.9</td>\n",
       "      <td>0.171</td>\n",
       "      <td>63</td>\n",
       "      <td>0</td>\n",
       "    </tr>\n",
       "    <tr>\n",
       "      <th>764</th>\n",
       "      <td>2</td>\n",
       "      <td>122</td>\n",
       "      <td>70</td>\n",
       "      <td>27</td>\n",
       "      <td>0</td>\n",
       "      <td>36.8</td>\n",
       "      <td>0.340</td>\n",
       "      <td>27</td>\n",
       "      <td>0</td>\n",
       "    </tr>\n",
       "    <tr>\n",
       "      <th>765</th>\n",
       "      <td>5</td>\n",
       "      <td>121</td>\n",
       "      <td>72</td>\n",
       "      <td>23</td>\n",
       "      <td>112</td>\n",
       "      <td>26.2</td>\n",
       "      <td>0.245</td>\n",
       "      <td>30</td>\n",
       "      <td>0</td>\n",
       "    </tr>\n",
       "    <tr>\n",
       "      <th>766</th>\n",
       "      <td>1</td>\n",
       "      <td>126</td>\n",
       "      <td>60</td>\n",
       "      <td>0</td>\n",
       "      <td>0</td>\n",
       "      <td>30.1</td>\n",
       "      <td>0.349</td>\n",
       "      <td>47</td>\n",
       "      <td>1</td>\n",
       "    </tr>\n",
       "    <tr>\n",
       "      <th>767</th>\n",
       "      <td>1</td>\n",
       "      <td>93</td>\n",
       "      <td>70</td>\n",
       "      <td>31</td>\n",
       "      <td>0</td>\n",
       "      <td>30.4</td>\n",
       "      <td>0.315</td>\n",
       "      <td>23</td>\n",
       "      <td>0</td>\n",
       "    </tr>\n",
       "  </tbody>\n",
       "</table>\n",
       "<p>768 rows × 9 columns</p>\n",
       "</div>"
      ],
      "text/plain": [
       "     Pregnancies  Glucose  BloodPressure  SkinThickness  Insulin   BMI  \\\n",
       "0              6      148             72             35        0  33.6   \n",
       "1              1       85             66             29        0  26.6   \n",
       "2              8      183             64              0        0  23.3   \n",
       "3              1       89             66             23       94  28.1   \n",
       "4              0      137             40             35      168  43.1   \n",
       "..           ...      ...            ...            ...      ...   ...   \n",
       "763           10      101             76             48      180  32.9   \n",
       "764            2      122             70             27        0  36.8   \n",
       "765            5      121             72             23      112  26.2   \n",
       "766            1      126             60              0        0  30.1   \n",
       "767            1       93             70             31        0  30.4   \n",
       "\n",
       "     DiabetesPedigreeFunction  Age  Outcome  \n",
       "0                       0.627   50        1  \n",
       "1                       0.351   31        0  \n",
       "2                       0.672   32        1  \n",
       "3                       0.167   21        0  \n",
       "4                       2.288   33        1  \n",
       "..                        ...  ...      ...  \n",
       "763                     0.171   63        0  \n",
       "764                     0.340   27        0  \n",
       "765                     0.245   30        0  \n",
       "766                     0.349   47        1  \n",
       "767                     0.315   23        0  \n",
       "\n",
       "[768 rows x 9 columns]"
      ]
     },
     "execution_count": 34,
     "metadata": {},
     "output_type": "execute_result"
    }
   ],
   "source": [
    "df"
   ]
  },
  {
   "cell_type": "code",
   "execution_count": 35,
   "id": "dd597431-51ed-4430-ad95-06d657d7deb7",
   "metadata": {},
   "outputs": [
    {
     "data": {
      "text/plain": [
       "Pregnancies                 0\n",
       "Glucose                     0\n",
       "BloodPressure               0\n",
       "SkinThickness               0\n",
       "Insulin                     0\n",
       "BMI                         0\n",
       "DiabetesPedigreeFunction    0\n",
       "Age                         0\n",
       "Outcome                     0\n",
       "dtype: int64"
      ]
     },
     "execution_count": 35,
     "metadata": {},
     "output_type": "execute_result"
    }
   ],
   "source": [
    "df.isna().sum()"
   ]
  },
  {
   "cell_type": "code",
   "execution_count": 36,
   "id": "6301503a-13c0-411c-a328-99dbd2bea068",
   "metadata": {},
   "outputs": [
    {
     "data": {
      "text/html": [
       "<div>\n",
       "<style scoped>\n",
       "    .dataframe tbody tr th:only-of-type {\n",
       "        vertical-align: middle;\n",
       "    }\n",
       "\n",
       "    .dataframe tbody tr th {\n",
       "        vertical-align: top;\n",
       "    }\n",
       "\n",
       "    .dataframe thead th {\n",
       "        text-align: right;\n",
       "    }\n",
       "</style>\n",
       "<table border=\"1\" class=\"dataframe\">\n",
       "  <thead>\n",
       "    <tr style=\"text-align: right;\">\n",
       "      <th></th>\n",
       "      <th>Pregnancies</th>\n",
       "      <th>Glucose</th>\n",
       "      <th>BloodPressure</th>\n",
       "      <th>SkinThickness</th>\n",
       "      <th>Insulin</th>\n",
       "      <th>BMI</th>\n",
       "      <th>DiabetesPedigreeFunction</th>\n",
       "      <th>Age</th>\n",
       "      <th>Outcome</th>\n",
       "    </tr>\n",
       "  </thead>\n",
       "  <tbody>\n",
       "  </tbody>\n",
       "</table>\n",
       "</div>"
      ],
      "text/plain": [
       "Empty DataFrame\n",
       "Columns: [Pregnancies, Glucose, BloodPressure, SkinThickness, Insulin, BMI, DiabetesPedigreeFunction, Age, Outcome]\n",
       "Index: []"
      ]
     },
     "execution_count": 36,
     "metadata": {},
     "output_type": "execute_result"
    }
   ],
   "source": [
    "df[df.duplicated()]"
   ]
  },
  {
   "cell_type": "code",
   "execution_count": 37,
   "id": "c313a2e5-4d34-4746-9943-870219868355",
   "metadata": {},
   "outputs": [],
   "source": [
    "#extract X and y features\n",
    "X = df.drop(\"Outcome\", axis=1)\n",
    "y = df[\"Outcome\"]"
   ]
  },
  {
   "cell_type": "code",
   "execution_count": 38,
   "id": "52cd9229-18e8-4bf6-bfca-18df1e293e59",
   "metadata": {},
   "outputs": [
    {
     "data": {
      "text/plain": [
       "8"
      ]
     },
     "execution_count": 38,
     "metadata": {},
     "output_type": "execute_result"
    }
   ],
   "source": [
    "X.shape[1]"
   ]
  },
  {
   "cell_type": "code",
   "execution_count": 39,
   "id": "9eda2ef5-8a34-4dfb-9328-08097e6ffdf9",
   "metadata": {},
   "outputs": [],
   "source": [
    "scaler = StandardScaler()\n",
    "X_scaled = scaler.fit_transform(X)"
   ]
  },
  {
   "cell_type": "code",
   "execution_count": 40,
   "id": "1d604906-8281-41de-90cf-318f628830a6",
   "metadata": {},
   "outputs": [],
   "source": [
    "X_train, X_test, y_train, y_test = train_test_split(X_scaled, y, test_size=0.2, random_state=30)"
   ]
  },
  {
   "cell_type": "code",
   "execution_count": 41,
   "id": "f706dfa3-8991-4bfe-89d0-d1a605147140",
   "metadata": {},
   "outputs": [],
   "source": [
    "#train model function\n",
    "\n",
    "def train_model(X,y,X_val, y_val,input_dim):\n",
    "    model = Sequential()\n",
    "    model.add(Dense(64, activation = \"relu\",input_shape= input_dim))\n",
    "    model.add(Dropout(0.3))\n",
    "    model.add(Dense(32, activation=\"relu\"))\n",
    "    model.add(Dropout(0.2))\n",
    "    model.add(Dense(16, activation=\"relu\"))\n",
    "    model.add(Dense(1, activation=\"sigmoid\"))\n",
    "\n",
    "    model.compile(optimizer= Adam(), loss= \"binary_crossentropy\",metrics=[\n",
    "            tf.keras.metrics.AUC(name='auc'),\n",
    "            tf.keras.metrics.Precision(name='precision'),\n",
    "            tf.keras.metrics.Recall(name='recall')\n",
    "        ])\n",
    "    early_stop = EarlyStopping(monitor='val_loss', patience=10, restore_best_weights=True)\n",
    "    checkpoint = ModelCheckpoint('best_model.h5', monitor='val_auc', mode='max', save_best_only=True)\n",
    "\n",
    "    class_weights = {\n",
    "    0: (1 / np.bincount(y_train)[0]),\n",
    "    1: (1 / np.bincount(y_train)[1])\n",
    "     }\n",
    "\n",
    "    history = model.fit(\n",
    "        X_train, y_train,\n",
    "        validation_data=(X_val, y_val),\n",
    "        epochs=100,\n",
    "        batch_size=32,\n",
    "        callbacks=[early_stop, checkpoint],\n",
    "        class_weight=class_weights,\n",
    "        verbose=1\n",
    "    )\n",
    "\n",
    "    return model, history\n",
    "\n",
    "\n",
    "    \n",
    "\n",
    "\n",
    "    \n",
    "    "
   ]
  },
  {
   "cell_type": "code",
   "execution_count": 42,
   "id": "f8054b0f-336b-44ff-b3b6-54c96945d1b7",
   "metadata": {},
   "outputs": [],
   "source": [
    "X_subtrain, X_val, y_subtrain, y_val = train_test_split(X_train, y_train, test_size=0.1, random_state=30)\n",
    "\n",
    "\n"
   ]
  },
  {
   "cell_type": "code",
   "execution_count": 43,
   "id": "7fc49972-9448-48a5-8211-bfd94473259f",
   "metadata": {},
   "outputs": [
    {
     "data": {
      "text/plain": [
       "(552, 8)"
      ]
     },
     "execution_count": 43,
     "metadata": {},
     "output_type": "execute_result"
    }
   ],
   "source": [
    "X_subtrain.shape"
   ]
  },
  {
   "cell_type": "code",
   "execution_count": 44,
   "id": "02a90200-dd7e-453d-b4eb-5bd6b43a4f82",
   "metadata": {},
   "outputs": [
    {
     "name": "stdout",
     "output_type": "stream",
     "text": [
      "Epoch 1/100\n"
     ]
    },
    {
     "name": "stderr",
     "output_type": "stream",
     "text": [
      "/opt/anaconda3/lib/python3.12/site-packages/keras/src/layers/core/dense.py:93: UserWarning: Do not pass an `input_shape`/`input_dim` argument to a layer. When using Sequential models, prefer using an `Input(shape)` object as the first layer in the model instead.\n",
      "  super().__init__(activity_regularizer=activity_regularizer, **kwargs)\n"
     ]
    },
    {
     "name": "stdout",
     "output_type": "stream",
     "text": [
      "\u001b[1m 1/20\u001b[0m \u001b[32m━\u001b[0m\u001b[37m━━━━━━━━━━━━━━━━━━━\u001b[0m \u001b[1m17s\u001b[0m 944ms/step - auc: 0.4615 - loss: 0.0024 - precision: 0.3810 - recall: 0.6154"
     ]
    },
    {
     "name": "stderr",
     "output_type": "stream",
     "text": [
      "WARNING:absl:You are saving your model as an HDF5 file via `model.save()` or `keras.saving.save_model(model)`. This file format is considered legacy. We recommend using instead the native Keras format, e.g. `model.save('my_model.keras')` or `keras.saving.save_model(model, 'my_model.keras')`. \n"
     ]
    },
    {
     "name": "stdout",
     "output_type": "stream",
     "text": [
      "\u001b[1m20/20\u001b[0m \u001b[32m━━━━━━━━━━━━━━━━━━━━\u001b[0m\u001b[37m\u001b[0m \u001b[1m1s\u001b[0m 8ms/step - auc: 0.5040 - loss: 0.0023 - precision: 0.3405 - recall: 0.6378 - val_auc: 0.7631 - val_loss: 0.6755 - val_precision: 0.4545 - val_recall: 0.9524\n",
      "Epoch 2/100\n",
      "\u001b[1m 1/20\u001b[0m \u001b[32m━\u001b[0m\u001b[37m━━━━━━━━━━━━━━━━━━━\u001b[0m \u001b[1m0s\u001b[0m 9ms/step - auc: 0.6667 - loss: 0.0022 - precision: 0.4286 - recall: 0.7500"
     ]
    },
    {
     "name": "stderr",
     "output_type": "stream",
     "text": [
      "WARNING:absl:You are saving your model as an HDF5 file via `model.save()` or `keras.saving.save_model(model)`. This file format is considered legacy. We recommend using instead the native Keras format, e.g. `model.save('my_model.keras')` or `keras.saving.save_model(model, 'my_model.keras')`. \n"
     ]
    },
    {
     "name": "stdout",
     "output_type": "stream",
     "text": [
      "\u001b[1m20/20\u001b[0m \u001b[32m━━━━━━━━━━━━━━━━━━━━\u001b[0m\u001b[37m\u001b[0m \u001b[1m0s\u001b[0m 2ms/step - auc: 0.6841 - loss: 0.0022 - precision: 0.4636 - recall: 0.8119 - val_auc: 0.8304 - val_loss: 0.6418 - val_precision: 0.5294 - val_recall: 0.8571\n",
      "Epoch 3/100\n",
      "\u001b[1m 1/20\u001b[0m \u001b[32m━\u001b[0m\u001b[37m━━━━━━━━━━━━━━━━━━━\u001b[0m \u001b[1m0s\u001b[0m 7ms/step - auc: 0.7083 - loss: 0.0021 - precision: 0.5000 - recall: 0.6429"
     ]
    },
    {
     "name": "stderr",
     "output_type": "stream",
     "text": [
      "WARNING:absl:You are saving your model as an HDF5 file via `model.save()` or `keras.saving.save_model(model)`. This file format is considered legacy. We recommend using instead the native Keras format, e.g. `model.save('my_model.keras')` or `keras.saving.save_model(model, 'my_model.keras')`. \n"
     ]
    },
    {
     "name": "stdout",
     "output_type": "stream",
     "text": [
      "\u001b[1m20/20\u001b[0m \u001b[32m━━━━━━━━━━━━━━━━━━━━\u001b[0m\u001b[37m\u001b[0m \u001b[1m0s\u001b[0m 2ms/step - auc: 0.7567 - loss: 0.0020 - precision: 0.5132 - recall: 0.7752 - val_auc: 0.8496 - val_loss: 0.5920 - val_precision: 0.6429 - val_recall: 0.8571\n",
      "Epoch 4/100\n",
      "\u001b[1m 1/20\u001b[0m \u001b[32m━\u001b[0m\u001b[37m━━━━━━━━━━━━━━━━━━━\u001b[0m \u001b[1m0s\u001b[0m 7ms/step - auc: 0.8939 - loss: 0.0017 - precision: 0.5789 - recall: 1.0000"
     ]
    },
    {
     "name": "stderr",
     "output_type": "stream",
     "text": [
      "WARNING:absl:You are saving your model as an HDF5 file via `model.save()` or `keras.saving.save_model(model)`. This file format is considered legacy. We recommend using instead the native Keras format, e.g. `model.save('my_model.keras')` or `keras.saving.save_model(model, 'my_model.keras')`. \n"
     ]
    },
    {
     "name": "stdout",
     "output_type": "stream",
     "text": [
      "\u001b[1m20/20\u001b[0m \u001b[32m━━━━━━━━━━━━━━━━━━━━\u001b[0m\u001b[37m\u001b[0m \u001b[1m0s\u001b[0m 2ms/step - auc: 0.8142 - loss: 0.0018 - precision: 0.6075 - recall: 0.7816 - val_auc: 0.8618 - val_loss: 0.5261 - val_precision: 0.7083 - val_recall: 0.8095\n",
      "Epoch 5/100\n",
      "\u001b[1m 1/20\u001b[0m \u001b[32m━\u001b[0m\u001b[37m━━━━━━━━━━━━━━━━━━━\u001b[0m \u001b[1m0s\u001b[0m 8ms/step - auc: 0.9020 - loss: 0.0016 - precision: 0.9000 - recall: 0.6000"
     ]
    },
    {
     "name": "stderr",
     "output_type": "stream",
     "text": [
      "WARNING:absl:You are saving your model as an HDF5 file via `model.save()` or `keras.saving.save_model(model)`. This file format is considered legacy. We recommend using instead the native Keras format, e.g. `model.save('my_model.keras')` or `keras.saving.save_model(model, 'my_model.keras')`. \n"
     ]
    },
    {
     "name": "stdout",
     "output_type": "stream",
     "text": [
      "\u001b[1m20/20\u001b[0m \u001b[32m━━━━━━━━━━━━━━━━━━━━\u001b[0m\u001b[37m\u001b[0m \u001b[1m0s\u001b[0m 2ms/step - auc: 0.8055 - loss: 0.0018 - precision: 0.6667 - recall: 0.6257 - val_auc: 0.8653 - val_loss: 0.4954 - val_precision: 0.7083 - val_recall: 0.8095\n",
      "Epoch 6/100\n",
      "\u001b[1m 1/20\u001b[0m \u001b[32m━\u001b[0m\u001b[37m━━━━━━━━━━━━━━━━━━━\u001b[0m \u001b[1m0s\u001b[0m 7ms/step - auc: 0.7773 - loss: 0.0017 - precision: 0.7778 - recall: 0.7000"
     ]
    },
    {
     "name": "stderr",
     "output_type": "stream",
     "text": [
      "WARNING:absl:You are saving your model as an HDF5 file via `model.save()` or `keras.saving.save_model(model)`. This file format is considered legacy. We recommend using instead the native Keras format, e.g. `model.save('my_model.keras')` or `keras.saving.save_model(model, 'my_model.keras')`. \n"
     ]
    },
    {
     "name": "stdout",
     "output_type": "stream",
     "text": [
      "\u001b[1m20/20\u001b[0m \u001b[32m━━━━━━━━━━━━━━━━━━━━\u001b[0m\u001b[37m\u001b[0m \u001b[1m0s\u001b[0m 2ms/step - auc: 0.7904 - loss: 0.0018 - precision: 0.6263 - recall: 0.6559 - val_auc: 0.8722 - val_loss: 0.4786 - val_precision: 0.7083 - val_recall: 0.8095\n",
      "Epoch 7/100\n",
      "\u001b[1m 1/20\u001b[0m \u001b[32m━\u001b[0m\u001b[37m━━━━━━━━━━━━━━━━━━━\u001b[0m \u001b[1m0s\u001b[0m 8ms/step - auc: 0.7240 - loss: 0.0020 - precision: 0.4286 - recall: 0.7500"
     ]
    },
    {
     "name": "stderr",
     "output_type": "stream",
     "text": [
      "WARNING:absl:You are saving your model as an HDF5 file via `model.save()` or `keras.saving.save_model(model)`. This file format is considered legacy. We recommend using instead the native Keras format, e.g. `model.save('my_model.keras')` or `keras.saving.save_model(model, 'my_model.keras')`. \n"
     ]
    },
    {
     "name": "stdout",
     "output_type": "stream",
     "text": [
      "\u001b[1m20/20\u001b[0m \u001b[32m━━━━━━━━━━━━━━━━━━━━\u001b[0m\u001b[37m\u001b[0m \u001b[1m0s\u001b[0m 2ms/step - auc: 0.8121 - loss: 0.0017 - precision: 0.6302 - recall: 0.7364 - val_auc: 0.8763 - val_loss: 0.4747 - val_precision: 0.6800 - val_recall: 0.8095\n",
      "Epoch 8/100\n",
      "\u001b[1m 1/20\u001b[0m \u001b[32m━\u001b[0m\u001b[37m━━━━━━━━━━━━━━━━━━━\u001b[0m \u001b[1m0s\u001b[0m 7ms/step - auc: 0.8636 - loss: 0.0017 - precision: 0.6667 - recall: 0.8000"
     ]
    },
    {
     "name": "stderr",
     "output_type": "stream",
     "text": [
      "WARNING:absl:You are saving your model as an HDF5 file via `model.save()` or `keras.saving.save_model(model)`. This file format is considered legacy. We recommend using instead the native Keras format, e.g. `model.save('my_model.keras')` or `keras.saving.save_model(model, 'my_model.keras')`. \n"
     ]
    },
    {
     "name": "stdout",
     "output_type": "stream",
     "text": [
      "\u001b[1m20/20\u001b[0m \u001b[32m━━━━━━━━━━━━━━━━━━━━\u001b[0m\u001b[37m\u001b[0m \u001b[1m0s\u001b[0m 2ms/step - auc: 0.8533 - loss: 0.0016 - precision: 0.6466 - recall: 0.7987 - val_auc: 0.8821 - val_loss: 0.4464 - val_precision: 0.7083 - val_recall: 0.8095\n",
      "Epoch 9/100\n",
      "\u001b[1m 1/20\u001b[0m \u001b[32m━\u001b[0m\u001b[37m━━━━━━━━━━━━━━━━━━━\u001b[0m \u001b[1m0s\u001b[0m 7ms/step - auc: 0.9059 - loss: 0.0014 - precision: 0.8235 - recall: 0.8235"
     ]
    },
    {
     "name": "stderr",
     "output_type": "stream",
     "text": [
      "WARNING:absl:You are saving your model as an HDF5 file via `model.save()` or `keras.saving.save_model(model)`. This file format is considered legacy. We recommend using instead the native Keras format, e.g. `model.save('my_model.keras')` or `keras.saving.save_model(model, 'my_model.keras')`. \n"
     ]
    },
    {
     "name": "stdout",
     "output_type": "stream",
     "text": [
      "\u001b[1m20/20\u001b[0m \u001b[32m━━━━━━━━━━━━━━━━━━━━\u001b[0m\u001b[37m\u001b[0m \u001b[1m0s\u001b[0m 2ms/step - auc: 0.8453 - loss: 0.0016 - precision: 0.6565 - recall: 0.7584 - val_auc: 0.8879 - val_loss: 0.4518 - val_precision: 0.6800 - val_recall: 0.8095\n",
      "Epoch 10/100\n",
      "\u001b[1m 1/20\u001b[0m \u001b[32m━\u001b[0m\u001b[37m━━━━━━━━━━━━━━━━━━━\u001b[0m \u001b[1m0s\u001b[0m 7ms/step - auc: 0.7877 - loss: 0.0018 - precision: 0.8182 - recall: 0.6429"
     ]
    },
    {
     "name": "stderr",
     "output_type": "stream",
     "text": [
      "WARNING:absl:You are saving your model as an HDF5 file via `model.save()` or `keras.saving.save_model(model)`. This file format is considered legacy. We recommend using instead the native Keras format, e.g. `model.save('my_model.keras')` or `keras.saving.save_model(model, 'my_model.keras')`. \n"
     ]
    },
    {
     "name": "stdout",
     "output_type": "stream",
     "text": [
      "\u001b[1m20/20\u001b[0m \u001b[32m━━━━━━━━━━━━━━━━━━━━\u001b[0m\u001b[37m\u001b[0m \u001b[1m0s\u001b[0m 2ms/step - auc: 0.8390 - loss: 0.0016 - precision: 0.6889 - recall: 0.7584 - val_auc: 0.8902 - val_loss: 0.4417 - val_precision: 0.6800 - val_recall: 0.8095\n",
      "Epoch 11/100\n",
      "\u001b[1m 1/20\u001b[0m \u001b[32m━\u001b[0m\u001b[37m━━━━━━━━━━━━━━━━━━━\u001b[0m \u001b[1m0s\u001b[0m 8ms/step - auc: 0.8057 - loss: 0.0016 - precision: 0.3636 - recall: 0.5714"
     ]
    },
    {
     "name": "stderr",
     "output_type": "stream",
     "text": [
      "WARNING:absl:You are saving your model as an HDF5 file via `model.save()` or `keras.saving.save_model(model)`. This file format is considered legacy. We recommend using instead the native Keras format, e.g. `model.save('my_model.keras')` or `keras.saving.save_model(model, 'my_model.keras')`. \n"
     ]
    },
    {
     "name": "stdout",
     "output_type": "stream",
     "text": [
      "\u001b[1m20/20\u001b[0m \u001b[32m━━━━━━━━━━━━━━━━━━━━\u001b[0m\u001b[37m\u001b[0m \u001b[1m0s\u001b[0m 2ms/step - auc: 0.8276 - loss: 0.0016 - precision: 0.5910 - recall: 0.7311 - val_auc: 0.8961 - val_loss: 0.4384 - val_precision: 0.6800 - val_recall: 0.8095\n",
      "Epoch 12/100\n",
      "\u001b[1m 1/20\u001b[0m \u001b[32m━\u001b[0m\u001b[37m━━━━━━━━━━━━━━━━━━━\u001b[0m \u001b[1m0s\u001b[0m 6ms/step - auc: 0.7240 - loss: 0.0019 - precision: 0.3333 - recall: 0.5000"
     ]
    },
    {
     "name": "stderr",
     "output_type": "stream",
     "text": [
      "WARNING:absl:You are saving your model as an HDF5 file via `model.save()` or `keras.saving.save_model(model)`. This file format is considered legacy. We recommend using instead the native Keras format, e.g. `model.save('my_model.keras')` or `keras.saving.save_model(model, 'my_model.keras')`. \n"
     ]
    },
    {
     "name": "stdout",
     "output_type": "stream",
     "text": [
      "\u001b[1m20/20\u001b[0m \u001b[32m━━━━━━━━━━━━━━━━━━━━\u001b[0m\u001b[37m\u001b[0m \u001b[1m0s\u001b[0m 2ms/step - auc: 0.8317 - loss: 0.0016 - precision: 0.5873 - recall: 0.6961 - val_auc: 0.8961 - val_loss: 0.4289 - val_precision: 0.6800 - val_recall: 0.8095\n",
      "Epoch 13/100\n",
      "\u001b[1m20/20\u001b[0m \u001b[32m━━━━━━━━━━━━━━━━━━━━\u001b[0m\u001b[37m\u001b[0m \u001b[1m0s\u001b[0m 1ms/step - auc: 0.8177 - loss: 0.0017 - precision: 0.6167 - recall: 0.7207 - val_auc: 0.8943 - val_loss: 0.4325 - val_precision: 0.6800 - val_recall: 0.8095\n",
      "Epoch 14/100\n",
      "\u001b[1m 1/20\u001b[0m \u001b[32m━\u001b[0m\u001b[37m━━━━━━━━━━━━━━━━━━━\u001b[0m \u001b[1m0s\u001b[0m 8ms/step - auc: 0.6883 - loss: 0.0025 - precision: 0.5000 - recall: 0.4545"
     ]
    },
    {
     "name": "stderr",
     "output_type": "stream",
     "text": [
      "WARNING:absl:You are saving your model as an HDF5 file via `model.save()` or `keras.saving.save_model(model)`. This file format is considered legacy. We recommend using instead the native Keras format, e.g. `model.save('my_model.keras')` or `keras.saving.save_model(model, 'my_model.keras')`. \n"
     ]
    },
    {
     "name": "stdout",
     "output_type": "stream",
     "text": [
      "\u001b[1m20/20\u001b[0m \u001b[32m━━━━━━━━━━━━━━━━━━━━\u001b[0m\u001b[37m\u001b[0m \u001b[1m0s\u001b[0m 2ms/step - auc: 0.8101 - loss: 0.0018 - precision: 0.6387 - recall: 0.7484 - val_auc: 0.8966 - val_loss: 0.4269 - val_precision: 0.6800 - val_recall: 0.8095\n",
      "Epoch 15/100\n",
      "\u001b[1m20/20\u001b[0m \u001b[32m━━━━━━━━━━━━━━━━━━━━\u001b[0m\u001b[37m\u001b[0m \u001b[1m0s\u001b[0m 1ms/step - auc: 0.8424 - loss: 0.0016 - precision: 0.6398 - recall: 0.7631 - val_auc: 0.8955 - val_loss: 0.4167 - val_precision: 0.6923 - val_recall: 0.8571\n",
      "Epoch 16/100\n",
      "\u001b[1m 1/20\u001b[0m \u001b[32m━\u001b[0m\u001b[37m━━━━━━━━━━━━━━━━━━━\u001b[0m \u001b[1m0s\u001b[0m 6ms/step - auc: 0.8300 - loss: 0.0015 - precision: 0.6250 - recall: 0.7692"
     ]
    },
    {
     "name": "stderr",
     "output_type": "stream",
     "text": [
      "WARNING:absl:You are saving your model as an HDF5 file via `model.save()` or `keras.saving.save_model(model)`. This file format is considered legacy. We recommend using instead the native Keras format, e.g. `model.save('my_model.keras')` or `keras.saving.save_model(model, 'my_model.keras')`. \n"
     ]
    },
    {
     "name": "stdout",
     "output_type": "stream",
     "text": [
      "\u001b[1m20/20\u001b[0m \u001b[32m━━━━━━━━━━━━━━━━━━━━\u001b[0m\u001b[37m\u001b[0m \u001b[1m0s\u001b[0m 2ms/step - auc: 0.8230 - loss: 0.0017 - precision: 0.6095 - recall: 0.7269 - val_auc: 0.9001 - val_loss: 0.4104 - val_precision: 0.6800 - val_recall: 0.8095\n",
      "Epoch 17/100\n",
      "\u001b[1m 1/20\u001b[0m \u001b[32m━\u001b[0m\u001b[37m━━━━━━━━━━━━━━━━━━━\u001b[0m \u001b[1m0s\u001b[0m 9ms/step - auc: 0.7614 - loss: 0.0017 - precision: 0.7500 - recall: 0.6000"
     ]
    },
    {
     "name": "stderr",
     "output_type": "stream",
     "text": [
      "WARNING:absl:You are saving your model as an HDF5 file via `model.save()` or `keras.saving.save_model(model)`. This file format is considered legacy. We recommend using instead the native Keras format, e.g. `model.save('my_model.keras')` or `keras.saving.save_model(model, 'my_model.keras')`. \n"
     ]
    },
    {
     "name": "stdout",
     "output_type": "stream",
     "text": [
      "\u001b[1m20/20\u001b[0m \u001b[32m━━━━━━━━━━━━━━━━━━━━\u001b[0m\u001b[37m\u001b[0m \u001b[1m0s\u001b[0m 2ms/step - auc: 0.8464 - loss: 0.0016 - precision: 0.6494 - recall: 0.7472 - val_auc: 0.9053 - val_loss: 0.4060 - val_precision: 0.7083 - val_recall: 0.8095\n",
      "Epoch 18/100\n",
      "\u001b[1m 1/20\u001b[0m \u001b[32m━\u001b[0m\u001b[37m━━━━━━━━━━━━━━━━━━━\u001b[0m \u001b[1m0s\u001b[0m 8ms/step - auc: 0.8030 - loss: 0.0018 - precision: 0.5833 - recall: 0.6364"
     ]
    },
    {
     "name": "stderr",
     "output_type": "stream",
     "text": [
      "WARNING:absl:You are saving your model as an HDF5 file via `model.save()` or `keras.saving.save_model(model)`. This file format is considered legacy. We recommend using instead the native Keras format, e.g. `model.save('my_model.keras')` or `keras.saving.save_model(model, 'my_model.keras')`. \n"
     ]
    },
    {
     "name": "stdout",
     "output_type": "stream",
     "text": [
      "\u001b[1m20/20\u001b[0m \u001b[32m━━━━━━━━━━━━━━━━━━━━\u001b[0m\u001b[37m\u001b[0m \u001b[1m0s\u001b[0m 2ms/step - auc: 0.8347 - loss: 0.0016 - precision: 0.6350 - recall: 0.7810 - val_auc: 0.9077 - val_loss: 0.4081 - val_precision: 0.7037 - val_recall: 0.9048\n",
      "Epoch 19/100\n",
      "\u001b[1m 1/20\u001b[0m \u001b[32m━\u001b[0m\u001b[37m━━━━━━━━━━━━━━━━━━━\u001b[0m \u001b[1m0s\u001b[0m 6ms/step - auc: 0.9352 - loss: 0.0012 - precision: 0.8000 - recall: 0.9231"
     ]
    },
    {
     "name": "stderr",
     "output_type": "stream",
     "text": [
      "WARNING:absl:You are saving your model as an HDF5 file via `model.save()` or `keras.saving.save_model(model)`. This file format is considered legacy. We recommend using instead the native Keras format, e.g. `model.save('my_model.keras')` or `keras.saving.save_model(model, 'my_model.keras')`. \n"
     ]
    },
    {
     "name": "stdout",
     "output_type": "stream",
     "text": [
      "\u001b[1m20/20\u001b[0m \u001b[32m━━━━━━━━━━━━━━━━━━━━\u001b[0m\u001b[37m\u001b[0m \u001b[1m0s\u001b[0m 2ms/step - auc: 0.8363 - loss: 0.0016 - precision: 0.6274 - recall: 0.7722 - val_auc: 0.9106 - val_loss: 0.4033 - val_precision: 0.6923 - val_recall: 0.8571\n",
      "Epoch 20/100\n",
      "\u001b[1m20/20\u001b[0m \u001b[32m━━━━━━━━━━━━━━━━━━━━\u001b[0m\u001b[37m\u001b[0m \u001b[1m0s\u001b[0m 1ms/step - auc: 0.8402 - loss: 0.0016 - precision: 0.6330 - recall: 0.7832 - val_auc: 0.9100 - val_loss: 0.4079 - val_precision: 0.6923 - val_recall: 0.8571\n",
      "Epoch 21/100\n",
      "\u001b[1m 1/20\u001b[0m \u001b[32m━\u001b[0m\u001b[37m━━━━━━━━━━━━━━━━━━━\u001b[0m \u001b[1m0s\u001b[0m 7ms/step - auc: 0.9205 - loss: 0.0013 - precision: 0.7143 - recall: 1.0000"
     ]
    },
    {
     "name": "stderr",
     "output_type": "stream",
     "text": [
      "WARNING:absl:You are saving your model as an HDF5 file via `model.save()` or `keras.saving.save_model(model)`. This file format is considered legacy. We recommend using instead the native Keras format, e.g. `model.save('my_model.keras')` or `keras.saving.save_model(model, 'my_model.keras')`. \n"
     ]
    },
    {
     "name": "stdout",
     "output_type": "stream",
     "text": [
      "\u001b[1m20/20\u001b[0m \u001b[32m━━━━━━━━━━━━━━━━━━━━\u001b[0m\u001b[37m\u001b[0m \u001b[1m0s\u001b[0m 2ms/step - auc: 0.8541 - loss: 0.0015 - precision: 0.6564 - recall: 0.8073 - val_auc: 0.9135 - val_loss: 0.3996 - val_precision: 0.6923 - val_recall: 0.8571\n",
      "Epoch 22/100\n",
      "\u001b[1m20/20\u001b[0m \u001b[32m━━━━━━━━━━━━━━━━━━━━\u001b[0m\u001b[37m\u001b[0m \u001b[1m0s\u001b[0m 1ms/step - auc: 0.8365 - loss: 0.0016 - precision: 0.5966 - recall: 0.8050 - val_auc: 0.9117 - val_loss: 0.4205 - val_precision: 0.6786 - val_recall: 0.9048\n",
      "Epoch 23/100\n",
      "\u001b[1m 1/20\u001b[0m \u001b[32m━\u001b[0m\u001b[37m━━━━━━━━━━━━━━━━━━━\u001b[0m \u001b[1m0s\u001b[0m 6ms/step - auc: 0.8588 - loss: 0.0017 - precision: 0.8000 - recall: 0.8000"
     ]
    },
    {
     "name": "stderr",
     "output_type": "stream",
     "text": [
      "WARNING:absl:You are saving your model as an HDF5 file via `model.save()` or `keras.saving.save_model(model)`. This file format is considered legacy. We recommend using instead the native Keras format, e.g. `model.save('my_model.keras')` or `keras.saving.save_model(model, 'my_model.keras')`. \n"
     ]
    },
    {
     "name": "stdout",
     "output_type": "stream",
     "text": [
      "\u001b[1m20/20\u001b[0m \u001b[32m━━━━━━━━━━━━━━━━━━━━\u001b[0m\u001b[37m\u001b[0m \u001b[1m0s\u001b[0m 2ms/step - auc: 0.8590 - loss: 0.0016 - precision: 0.7054 - recall: 0.8334 - val_auc: 0.9158 - val_loss: 0.4018 - val_precision: 0.7037 - val_recall: 0.9048\n",
      "Epoch 24/100\n",
      "\u001b[1m 1/20\u001b[0m \u001b[32m━\u001b[0m\u001b[37m━━━━━━━━━━━━━━━━━━━\u001b[0m \u001b[1m0s\u001b[0m 6ms/step - auc: 0.8500 - loss: 0.0016 - precision: 0.6429 - recall: 0.7500"
     ]
    },
    {
     "name": "stderr",
     "output_type": "stream",
     "text": [
      "WARNING:absl:You are saving your model as an HDF5 file via `model.save()` or `keras.saving.save_model(model)`. This file format is considered legacy. We recommend using instead the native Keras format, e.g. `model.save('my_model.keras')` or `keras.saving.save_model(model, 'my_model.keras')`. \n"
     ]
    },
    {
     "name": "stdout",
     "output_type": "stream",
     "text": [
      "\u001b[1m20/20\u001b[0m \u001b[32m━━━━━━━━━━━━━━━━━━━━\u001b[0m\u001b[37m\u001b[0m \u001b[1m0s\u001b[0m 2ms/step - auc: 0.8473 - loss: 0.0016 - precision: 0.6216 - recall: 0.7785 - val_auc: 0.9175 - val_loss: 0.3947 - val_precision: 0.6923 - val_recall: 0.8571\n",
      "Epoch 25/100\n",
      "\u001b[1m 1/20\u001b[0m \u001b[32m━\u001b[0m\u001b[37m━━━━━━━━━━━━━━━━━━━\u001b[0m \u001b[1m0s\u001b[0m 6ms/step - auc: 0.6625 - loss: 0.0023 - precision: 0.4375 - recall: 0.5833"
     ]
    },
    {
     "name": "stderr",
     "output_type": "stream",
     "text": [
      "WARNING:absl:You are saving your model as an HDF5 file via `model.save()` or `keras.saving.save_model(model)`. This file format is considered legacy. We recommend using instead the native Keras format, e.g. `model.save('my_model.keras')` or `keras.saving.save_model(model, 'my_model.keras')`. \n"
     ]
    },
    {
     "name": "stdout",
     "output_type": "stream",
     "text": [
      "\u001b[1m20/20\u001b[0m \u001b[32m━━━━━━━━━━━━━━━━━━━━\u001b[0m\u001b[37m\u001b[0m \u001b[1m0s\u001b[0m 2ms/step - auc: 0.8313 - loss: 0.0017 - precision: 0.6290 - recall: 0.8184 - val_auc: 0.9193 - val_loss: 0.3978 - val_precision: 0.7200 - val_recall: 0.8571\n",
      "Epoch 26/100\n",
      "\u001b[1m20/20\u001b[0m \u001b[32m━━━━━━━━━━━━━━━━━━━━\u001b[0m\u001b[37m\u001b[0m \u001b[1m0s\u001b[0m 1ms/step - auc: 0.8640 - loss: 0.0015 - precision: 0.6628 - recall: 0.8558 - val_auc: 0.9181 - val_loss: 0.3971 - val_precision: 0.7200 - val_recall: 0.8571\n",
      "Epoch 27/100\n",
      "\u001b[1m 1/20\u001b[0m \u001b[32m━\u001b[0m\u001b[37m━━━━━━━━━━━━━━━━━━━\u001b[0m \u001b[1m0s\u001b[0m 6ms/step - auc: 0.7835 - loss: 0.0018 - precision: 0.6154 - recall: 0.7273"
     ]
    },
    {
     "name": "stderr",
     "output_type": "stream",
     "text": [
      "WARNING:absl:You are saving your model as an HDF5 file via `model.save()` or `keras.saving.save_model(model)`. This file format is considered legacy. We recommend using instead the native Keras format, e.g. `model.save('my_model.keras')` or `keras.saving.save_model(model, 'my_model.keras')`. \n"
     ]
    },
    {
     "name": "stdout",
     "output_type": "stream",
     "text": [
      "\u001b[1m20/20\u001b[0m \u001b[32m━━━━━━━━━━━━━━━━━━━━\u001b[0m\u001b[37m\u001b[0m \u001b[1m0s\u001b[0m 2ms/step - auc: 0.8494 - loss: 0.0016 - precision: 0.6435 - recall: 0.8003 - val_auc: 0.9204 - val_loss: 0.4036 - val_precision: 0.6923 - val_recall: 0.8571\n",
      "Epoch 28/100\n",
      "\u001b[1m20/20\u001b[0m \u001b[32m━━━━━━━━━━━━━━━━━━━━\u001b[0m\u001b[37m\u001b[0m \u001b[1m0s\u001b[0m 1ms/step - auc: 0.8452 - loss: 0.0016 - precision: 0.6197 - recall: 0.8182 - val_auc: 0.9187 - val_loss: 0.3958 - val_precision: 0.6923 - val_recall: 0.8571\n",
      "Epoch 29/100\n",
      "\u001b[1m20/20\u001b[0m \u001b[32m━━━━━━━━━━━━━━━━━━━━\u001b[0m\u001b[37m\u001b[0m \u001b[1m0s\u001b[0m 1ms/step - auc: 0.8525 - loss: 0.0016 - precision: 0.6286 - recall: 0.7947 - val_auc: 0.9181 - val_loss: 0.3862 - val_precision: 0.7200 - val_recall: 0.8571\n",
      "Epoch 30/100\n",
      "\u001b[1m 1/20\u001b[0m \u001b[32m━\u001b[0m\u001b[37m━━━━━━━━━━━━━━━━━━━\u001b[0m \u001b[1m0s\u001b[0m 5ms/step - auc: 0.9455 - loss: 0.0011 - precision: 0.5625 - recall: 0.9000"
     ]
    },
    {
     "name": "stderr",
     "output_type": "stream",
     "text": [
      "WARNING:absl:You are saving your model as an HDF5 file via `model.save()` or `keras.saving.save_model(model)`. This file format is considered legacy. We recommend using instead the native Keras format, e.g. `model.save('my_model.keras')` or `keras.saving.save_model(model, 'my_model.keras')`. \n"
     ]
    },
    {
     "name": "stdout",
     "output_type": "stream",
     "text": [
      "\u001b[1m20/20\u001b[0m \u001b[32m━━━━━━━━━━━━━━━━━━━━\u001b[0m\u001b[37m\u001b[0m \u001b[1m0s\u001b[0m 2ms/step - auc: 0.8689 - loss: 0.0015 - precision: 0.6596 - recall: 0.7970 - val_auc: 0.9233 - val_loss: 0.3849 - val_precision: 0.7500 - val_recall: 0.8571\n",
      "Epoch 31/100\n",
      "\u001b[1m 1/20\u001b[0m \u001b[32m━\u001b[0m\u001b[37m━━━━━━━━━━━━━━━━━━━\u001b[0m \u001b[1m0s\u001b[0m 6ms/step - auc: 0.8588 - loss: 0.0017 - precision: 0.8000 - recall: 0.8000"
     ]
    },
    {
     "name": "stderr",
     "output_type": "stream",
     "text": [
      "WARNING:absl:You are saving your model as an HDF5 file via `model.save()` or `keras.saving.save_model(model)`. This file format is considered legacy. We recommend using instead the native Keras format, e.g. `model.save('my_model.keras')` or `keras.saving.save_model(model, 'my_model.keras')`. \n"
     ]
    },
    {
     "name": "stdout",
     "output_type": "stream",
     "text": [
      "\u001b[1m20/20\u001b[0m \u001b[32m━━━━━━━━━━━━━━━━━━━━\u001b[0m\u001b[37m\u001b[0m \u001b[1m0s\u001b[0m 2ms/step - auc: 0.8593 - loss: 0.0015 - precision: 0.6728 - recall: 0.8402 - val_auc: 0.9251 - val_loss: 0.3888 - val_precision: 0.7037 - val_recall: 0.9048\n",
      "Epoch 32/100\n",
      "\u001b[1m20/20\u001b[0m \u001b[32m━━━━━━━━━━━━━━━━━━━━\u001b[0m\u001b[37m\u001b[0m \u001b[1m0s\u001b[0m 1ms/step - auc: 0.8174 - loss: 0.0017 - precision: 0.5715 - recall: 0.7424 - val_auc: 0.9210 - val_loss: 0.3871 - val_precision: 0.7600 - val_recall: 0.9048\n",
      "Epoch 33/100\n",
      "\u001b[1m20/20\u001b[0m \u001b[32m━━━━━━━━━━━━━━━━━━━━\u001b[0m\u001b[37m\u001b[0m \u001b[1m0s\u001b[0m 1ms/step - auc: 0.8725 - loss: 0.0015 - precision: 0.6321 - recall: 0.8308 - val_auc: 0.9251 - val_loss: 0.3781 - val_precision: 0.7600 - val_recall: 0.9048\n",
      "Epoch 34/100\n",
      "\u001b[1m20/20\u001b[0m \u001b[32m━━━━━━━━━━━━━━━━━━━━\u001b[0m\u001b[37m\u001b[0m \u001b[1m0s\u001b[0m 1ms/step - auc: 0.8599 - loss: 0.0015 - precision: 0.6825 - recall: 0.8096 - val_auc: 0.9233 - val_loss: 0.3748 - val_precision: 0.8182 - val_recall: 0.8571\n",
      "Epoch 35/100\n",
      "\u001b[1m20/20\u001b[0m \u001b[32m━━━━━━━━━━━━━━━━━━━━\u001b[0m\u001b[37m\u001b[0m \u001b[1m0s\u001b[0m 1ms/step - auc: 0.8827 - loss: 0.0014 - precision: 0.7100 - recall: 0.8504 - val_auc: 0.9204 - val_loss: 0.3799 - val_precision: 0.7308 - val_recall: 0.9048\n",
      "Epoch 36/100\n",
      "\u001b[1m 1/20\u001b[0m \u001b[32m━\u001b[0m\u001b[37m━━━━━━━━━━━━━━━━━━━\u001b[0m \u001b[1m0s\u001b[0m 7ms/step - auc: 0.8896 - loss: 0.0013 - precision: 0.7143 - recall: 0.8333"
     ]
    },
    {
     "name": "stderr",
     "output_type": "stream",
     "text": [
      "WARNING:absl:You are saving your model as an HDF5 file via `model.save()` or `keras.saving.save_model(model)`. This file format is considered legacy. We recommend using instead the native Keras format, e.g. `model.save('my_model.keras')` or `keras.saving.save_model(model, 'my_model.keras')`. \n"
     ]
    },
    {
     "name": "stdout",
     "output_type": "stream",
     "text": [
      "\u001b[1m20/20\u001b[0m \u001b[32m━━━━━━━━━━━━━━━━━━━━\u001b[0m\u001b[37m\u001b[0m \u001b[1m0s\u001b[0m 2ms/step - auc: 0.8610 - loss: 0.0015 - precision: 0.6581 - recall: 0.8325 - val_auc: 0.9262 - val_loss: 0.3682 - val_precision: 0.7308 - val_recall: 0.9048\n",
      "Epoch 37/100\n",
      "\u001b[1m 1/20\u001b[0m \u001b[32m━\u001b[0m\u001b[37m━━━━━━━━━━━━━━━━━━━\u001b[0m \u001b[1m0s\u001b[0m 7ms/step - auc: 0.9069 - loss: 0.0014 - precision: 0.7333 - recall: 0.8462"
     ]
    },
    {
     "name": "stderr",
     "output_type": "stream",
     "text": [
      "WARNING:absl:You are saving your model as an HDF5 file via `model.save()` or `keras.saving.save_model(model)`. This file format is considered legacy. We recommend using instead the native Keras format, e.g. `model.save('my_model.keras')` or `keras.saving.save_model(model, 'my_model.keras')`. \n"
     ]
    },
    {
     "name": "stdout",
     "output_type": "stream",
     "text": [
      "\u001b[1m20/20\u001b[0m \u001b[32m━━━━━━━━━━━━━━━━━━━━\u001b[0m\u001b[37m\u001b[0m \u001b[1m0s\u001b[0m 2ms/step - auc: 0.8595 - loss: 0.0015 - precision: 0.6485 - recall: 0.8037 - val_auc: 0.9280 - val_loss: 0.3640 - val_precision: 0.7308 - val_recall: 0.9048\n",
      "Epoch 38/100\n",
      "\u001b[1m20/20\u001b[0m \u001b[32m━━━━━━━━━━━━━━━━━━━━\u001b[0m\u001b[37m\u001b[0m \u001b[1m0s\u001b[0m 1ms/step - auc: 0.8749 - loss: 0.0014 - precision: 0.6772 - recall: 0.7496 - val_auc: 0.9257 - val_loss: 0.3674 - val_precision: 0.7308 - val_recall: 0.9048\n",
      "Epoch 39/100\n",
      "\u001b[1m 1/20\u001b[0m \u001b[32m━\u001b[0m\u001b[37m━━━━━━━━━━━━━━━━━━━\u001b[0m \u001b[1m0s\u001b[0m 6ms/step - auc: 0.8802 - loss: 0.0013 - precision: 0.6250 - recall: 0.6250"
     ]
    },
    {
     "name": "stderr",
     "output_type": "stream",
     "text": [
      "WARNING:absl:You are saving your model as an HDF5 file via `model.save()` or `keras.saving.save_model(model)`. This file format is considered legacy. We recommend using instead the native Keras format, e.g. `model.save('my_model.keras')` or `keras.saving.save_model(model, 'my_model.keras')`. \n"
     ]
    },
    {
     "name": "stdout",
     "output_type": "stream",
     "text": [
      "\u001b[1m20/20\u001b[0m \u001b[32m━━━━━━━━━━━━━━━━━━━━\u001b[0m\u001b[37m\u001b[0m \u001b[1m0s\u001b[0m 2ms/step - auc: 0.8684 - loss: 0.0014 - precision: 0.6512 - recall: 0.8167 - val_auc: 0.9280 - val_loss: 0.3721 - val_precision: 0.7308 - val_recall: 0.9048\n",
      "Epoch 40/100\n",
      "\u001b[1m 1/20\u001b[0m \u001b[32m━\u001b[0m\u001b[37m━━━━━━━━━━━━━━━━━━━\u001b[0m \u001b[1m0s\u001b[0m 7ms/step - auc: 0.9182 - loss: 0.0010 - precision: 0.6923 - recall: 0.9000"
     ]
    },
    {
     "name": "stderr",
     "output_type": "stream",
     "text": [
      "WARNING:absl:You are saving your model as an HDF5 file via `model.save()` or `keras.saving.save_model(model)`. This file format is considered legacy. We recommend using instead the native Keras format, e.g. `model.save('my_model.keras')` or `keras.saving.save_model(model, 'my_model.keras')`. \n"
     ]
    },
    {
     "name": "stdout",
     "output_type": "stream",
     "text": [
      "\u001b[1m20/20\u001b[0m \u001b[32m━━━━━━━━━━━━━━━━━━━━\u001b[0m\u001b[37m\u001b[0m \u001b[1m0s\u001b[0m 2ms/step - auc: 0.8928 - loss: 0.0013 - precision: 0.6682 - recall: 0.8130 - val_auc: 0.9286 - val_loss: 0.3701 - val_precision: 0.7308 - val_recall: 0.9048\n",
      "Epoch 41/100\n",
      "\u001b[1m20/20\u001b[0m \u001b[32m━━━━━━━━━━━━━━━━━━━━\u001b[0m\u001b[37m\u001b[0m \u001b[1m0s\u001b[0m 1ms/step - auc: 0.8880 - loss: 0.0014 - precision: 0.6796 - recall: 0.8447 - val_auc: 0.9233 - val_loss: 0.4013 - val_precision: 0.6786 - val_recall: 0.9048\n",
      "Epoch 42/100\n",
      "\u001b[1m20/20\u001b[0m \u001b[32m━━━━━━━━━━━━━━━━━━━━\u001b[0m\u001b[37m\u001b[0m \u001b[1m0s\u001b[0m 1ms/step - auc: 0.8677 - loss: 0.0015 - precision: 0.6409 - recall: 0.8331 - val_auc: 0.9257 - val_loss: 0.3881 - val_precision: 0.7037 - val_recall: 0.9048\n",
      "Epoch 43/100\n",
      "\u001b[1m20/20\u001b[0m \u001b[32m━━━━━━━━━━━━━━━━━━━━\u001b[0m\u001b[37m\u001b[0m \u001b[1m0s\u001b[0m 1ms/step - auc: 0.8775 - loss: 0.0014 - precision: 0.6284 - recall: 0.8321 - val_auc: 0.9280 - val_loss: 0.3745 - val_precision: 0.7308 - val_recall: 0.9048\n",
      "Epoch 44/100\n",
      "\u001b[1m 1/20\u001b[0m \u001b[32m━\u001b[0m\u001b[37m━━━━━━━━━━━━━━━━━━━\u001b[0m \u001b[1m0s\u001b[0m 6ms/step - auc: 0.8438 - loss: 0.0014 - precision: 0.6250 - recall: 0.6250"
     ]
    },
    {
     "name": "stderr",
     "output_type": "stream",
     "text": [
      "WARNING:absl:You are saving your model as an HDF5 file via `model.save()` or `keras.saving.save_model(model)`. This file format is considered legacy. We recommend using instead the native Keras format, e.g. `model.save('my_model.keras')` or `keras.saving.save_model(model, 'my_model.keras')`. \n"
     ]
    },
    {
     "name": "stdout",
     "output_type": "stream",
     "text": [
      "\u001b[1m20/20\u001b[0m \u001b[32m━━━━━━━━━━━━━━━━━━━━\u001b[0m\u001b[37m\u001b[0m \u001b[1m0s\u001b[0m 2ms/step - auc: 0.8508 - loss: 0.0015 - precision: 0.6219 - recall: 0.7676 - val_auc: 0.9292 - val_loss: 0.3741 - val_precision: 0.7308 - val_recall: 0.9048\n",
      "Epoch 45/100\n",
      "\u001b[1m20/20\u001b[0m \u001b[32m━━━━━━━━━━━━━━━━━━━━\u001b[0m\u001b[37m\u001b[0m \u001b[1m0s\u001b[0m 1ms/step - auc: 0.8736 - loss: 0.0014 - precision: 0.6476 - recall: 0.8085 - val_auc: 0.9268 - val_loss: 0.3731 - val_precision: 0.7308 - val_recall: 0.9048\n",
      "Epoch 46/100\n",
      "\u001b[1m20/20\u001b[0m \u001b[32m━━━━━━━━━━━━━━━━━━━━\u001b[0m\u001b[37m\u001b[0m \u001b[1m0s\u001b[0m 1ms/step - auc: 0.8763 - loss: 0.0014 - precision: 0.6747 - recall: 0.8254 - val_auc: 0.9292 - val_loss: 0.3633 - val_precision: 0.7308 - val_recall: 0.9048\n",
      "Epoch 47/100\n",
      "\u001b[1m20/20\u001b[0m \u001b[32m━━━━━━━━━━━━━━━━━━━━\u001b[0m\u001b[37m\u001b[0m \u001b[1m0s\u001b[0m 1ms/step - auc: 0.8514 - loss: 0.0016 - precision: 0.6396 - recall: 0.8161 - val_auc: 0.9239 - val_loss: 0.3733 - val_precision: 0.7308 - val_recall: 0.9048\n",
      "Epoch 48/100\n",
      "\u001b[1m20/20\u001b[0m \u001b[32m━━━━━━━━━━━━━━━━━━━━\u001b[0m\u001b[37m\u001b[0m \u001b[1m0s\u001b[0m 1ms/step - auc: 0.8676 - loss: 0.0015 - precision: 0.6506 - recall: 0.8032 - val_auc: 0.9292 - val_loss: 0.3645 - val_precision: 0.7308 - val_recall: 0.9048\n",
      "Epoch 49/100\n",
      "\u001b[1m 1/20\u001b[0m \u001b[32m━\u001b[0m\u001b[37m━━━━━━━━━━━━━━━━━━━\u001b[0m \u001b[1m0s\u001b[0m 6ms/step - auc: 0.9333 - loss: 0.0011 - precision: 0.8235 - recall: 0.9333"
     ]
    },
    {
     "name": "stderr",
     "output_type": "stream",
     "text": [
      "WARNING:absl:You are saving your model as an HDF5 file via `model.save()` or `keras.saving.save_model(model)`. This file format is considered legacy. We recommend using instead the native Keras format, e.g. `model.save('my_model.keras')` or `keras.saving.save_model(model, 'my_model.keras')`. \n"
     ]
    },
    {
     "name": "stdout",
     "output_type": "stream",
     "text": [
      "\u001b[1m20/20\u001b[0m \u001b[32m━━━━━━━━━━━━━━━━━━━━\u001b[0m\u001b[37m\u001b[0m \u001b[1m0s\u001b[0m 2ms/step - auc: 0.8671 - loss: 0.0015 - precision: 0.6909 - recall: 0.8242 - val_auc: 0.9292 - val_loss: 0.3688 - val_precision: 0.7037 - val_recall: 0.9048\n",
      "Epoch 50/100\n",
      "\u001b[1m20/20\u001b[0m \u001b[32m━━━━━━━━━━━━━━━━━━━━\u001b[0m\u001b[37m\u001b[0m \u001b[1m0s\u001b[0m 1ms/step - auc: 0.8779 - loss: 0.0014 - precision: 0.6696 - recall: 0.8328 - val_auc: 0.9274 - val_loss: 0.3625 - val_precision: 0.7200 - val_recall: 0.8571\n",
      "Epoch 51/100\n",
      "\u001b[1m20/20\u001b[0m \u001b[32m━━━━━━━━━━━━━━━━━━━━\u001b[0m\u001b[37m\u001b[0m \u001b[1m0s\u001b[0m 1ms/step - auc: 0.8898 - loss: 0.0013 - precision: 0.6679 - recall: 0.7912 - val_auc: 0.9262 - val_loss: 0.3607 - val_precision: 0.7083 - val_recall: 0.8095\n",
      "Epoch 52/100\n",
      "\u001b[1m20/20\u001b[0m \u001b[32m━━━━━━━━━━━━━━━━━━━━\u001b[0m\u001b[37m\u001b[0m \u001b[1m0s\u001b[0m 1ms/step - auc: 0.8775 - loss: 0.0014 - precision: 0.6502 - recall: 0.7525 - val_auc: 0.9268 - val_loss: 0.3625 - val_precision: 0.7200 - val_recall: 0.8571\n",
      "Epoch 53/100\n",
      "\u001b[1m20/20\u001b[0m \u001b[32m━━━━━━━━━━━━━━━━━━━━\u001b[0m\u001b[37m\u001b[0m \u001b[1m0s\u001b[0m 1ms/step - auc: 0.8950 - loss: 0.0014 - precision: 0.7218 - recall: 0.8380 - val_auc: 0.9222 - val_loss: 0.3714 - val_precision: 0.7037 - val_recall: 0.9048\n",
      "Epoch 54/100\n",
      "\u001b[1m20/20\u001b[0m \u001b[32m━━━━━━━━━━━━━━━━━━━━\u001b[0m\u001b[37m\u001b[0m \u001b[1m0s\u001b[0m 1ms/step - auc: 0.8798 - loss: 0.0014 - precision: 0.6275 - recall: 0.7920 - val_auc: 0.9239 - val_loss: 0.3571 - val_precision: 0.7308 - val_recall: 0.9048\n",
      "Epoch 55/100\n",
      "\u001b[1m20/20\u001b[0m \u001b[32m━━━━━━━━━━━━━━━━━━━━\u001b[0m\u001b[37m\u001b[0m \u001b[1m0s\u001b[0m 1ms/step - auc: 0.8813 - loss: 0.0014 - precision: 0.6953 - recall: 0.7871 - val_auc: 0.9222 - val_loss: 0.3706 - val_precision: 0.7308 - val_recall: 0.9048\n",
      "Epoch 56/100\n",
      "\u001b[1m20/20\u001b[0m \u001b[32m━━━━━━━━━━━━━━━━━━━━\u001b[0m\u001b[37m\u001b[0m \u001b[1m0s\u001b[0m 1ms/step - auc: 0.8990 - loss: 0.0013 - precision: 0.6650 - recall: 0.8784 - val_auc: 0.9204 - val_loss: 0.3666 - val_precision: 0.7308 - val_recall: 0.9048\n",
      "Epoch 57/100\n",
      "\u001b[1m20/20\u001b[0m \u001b[32m━━━━━━━━━━━━━━━━━━━━\u001b[0m\u001b[37m\u001b[0m \u001b[1m0s\u001b[0m 2ms/step - auc: 0.8847 - loss: 0.0014 - precision: 0.6727 - recall: 0.8451 - val_auc: 0.9222 - val_loss: 0.3646 - val_precision: 0.7308 - val_recall: 0.9048\n",
      "Epoch 58/100\n",
      "\u001b[1m20/20\u001b[0m \u001b[32m━━━━━━━━━━━━━━━━━━━━\u001b[0m\u001b[37m\u001b[0m \u001b[1m0s\u001b[0m 2ms/step - auc: 0.8965 - loss: 0.0013 - precision: 0.6898 - recall: 0.8673 - val_auc: 0.9257 - val_loss: 0.3607 - val_precision: 0.7308 - val_recall: 0.9048\n",
      "Epoch 59/100\n",
      "\u001b[1m20/20\u001b[0m \u001b[32m━━━━━━━━━━━━━━━━━━━━\u001b[0m\u001b[37m\u001b[0m \u001b[1m0s\u001b[0m 1ms/step - auc: 0.8685 - loss: 0.0015 - precision: 0.6786 - recall: 0.8000 - val_auc: 0.9233 - val_loss: 0.3622 - val_precision: 0.7600 - val_recall: 0.9048\n",
      "Epoch 60/100\n",
      "\u001b[1m20/20\u001b[0m \u001b[32m━━━━━━━━━━━━━━━━━━━━\u001b[0m\u001b[37m\u001b[0m \u001b[1m0s\u001b[0m 1ms/step - auc: 0.8773 - loss: 0.0014 - precision: 0.6425 - recall: 0.8403 - val_auc: 0.9292 - val_loss: 0.3513 - val_precision: 0.7308 - val_recall: 0.9048\n",
      "Epoch 61/100\n",
      "\u001b[1m20/20\u001b[0m \u001b[32m━━━━━━━━━━━━━━━━━━━━\u001b[0m\u001b[37m\u001b[0m \u001b[1m0s\u001b[0m 1ms/step - auc: 0.9015 - loss: 0.0013 - precision: 0.6800 - recall: 0.8455 - val_auc: 0.9222 - val_loss: 0.3542 - val_precision: 0.7308 - val_recall: 0.9048\n",
      "Epoch 62/100\n",
      "\u001b[1m20/20\u001b[0m \u001b[32m━━━━━━━━━━━━━━━━━━━━\u001b[0m\u001b[37m\u001b[0m \u001b[1m0s\u001b[0m 1ms/step - auc: 0.8741 - loss: 0.0014 - precision: 0.6619 - recall: 0.8235 - val_auc: 0.9210 - val_loss: 0.3571 - val_precision: 0.7600 - val_recall: 0.9048\n",
      "Epoch 63/100\n",
      "\u001b[1m20/20\u001b[0m \u001b[32m━━━━━━━━━━━━━━━━━━━━\u001b[0m\u001b[37m\u001b[0m \u001b[1m0s\u001b[0m 1ms/step - auc: 0.8774 - loss: 0.0014 - precision: 0.6606 - recall: 0.7989 - val_auc: 0.9245 - val_loss: 0.3559 - val_precision: 0.7600 - val_recall: 0.9048\n",
      "Epoch 64/100\n",
      "\u001b[1m20/20\u001b[0m \u001b[32m━━━━━━━━━━━━━━━━━━━━\u001b[0m\u001b[37m\u001b[0m \u001b[1m0s\u001b[0m 1ms/step - auc: 0.8888 - loss: 0.0014 - precision: 0.6688 - recall: 0.8701 - val_auc: 0.9251 - val_loss: 0.3602 - val_precision: 0.7308 - val_recall: 0.9048\n",
      "Epoch 65/100\n",
      "\u001b[1m 1/20\u001b[0m \u001b[32m━\u001b[0m\u001b[37m━━━━━━━━━━━━━━━━━━━\u001b[0m \u001b[1m0s\u001b[0m 7ms/step - auc: 0.8708 - loss: 0.0015 - precision: 0.7143 - recall: 0.8333"
     ]
    },
    {
     "name": "stderr",
     "output_type": "stream",
     "text": [
      "WARNING:absl:You are saving your model as an HDF5 file via `model.save()` or `keras.saving.save_model(model)`. This file format is considered legacy. We recommend using instead the native Keras format, e.g. `model.save('my_model.keras')` or `keras.saving.save_model(model, 'my_model.keras')`. \n"
     ]
    },
    {
     "name": "stdout",
     "output_type": "stream",
     "text": [
      "\u001b[1m20/20\u001b[0m \u001b[32m━━━━━━━━━━━━━━━━━━━━\u001b[0m\u001b[37m\u001b[0m \u001b[1m0s\u001b[0m 2ms/step - auc: 0.8935 - loss: 0.0013 - precision: 0.6729 - recall: 0.8320 - val_auc: 0.9309 - val_loss: 0.3666 - val_precision: 0.6786 - val_recall: 0.9048\n",
      "Epoch 66/100\n",
      "\u001b[1m 1/20\u001b[0m \u001b[32m━\u001b[0m\u001b[37m━━━━━━━━━━━━━━━━━━━\u001b[0m \u001b[1m0s\u001b[0m 6ms/step - auc: 0.8745 - loss: 0.0015 - precision: 0.6667 - recall: 0.7692"
     ]
    },
    {
     "name": "stderr",
     "output_type": "stream",
     "text": [
      "WARNING:absl:You are saving your model as an HDF5 file via `model.save()` or `keras.saving.save_model(model)`. This file format is considered legacy. We recommend using instead the native Keras format, e.g. `model.save('my_model.keras')` or `keras.saving.save_model(model, 'my_model.keras')`. \n"
     ]
    },
    {
     "name": "stdout",
     "output_type": "stream",
     "text": [
      "\u001b[1m20/20\u001b[0m \u001b[32m━━━━━━━━━━━━━━━━━━━━\u001b[0m\u001b[37m\u001b[0m \u001b[1m0s\u001b[0m 2ms/step - auc: 0.8788 - loss: 0.0014 - precision: 0.6390 - recall: 0.8396 - val_auc: 0.9332 - val_loss: 0.3552 - val_precision: 0.7600 - val_recall: 0.9048\n",
      "Epoch 67/100\n",
      "\u001b[1m20/20\u001b[0m \u001b[32m━━━━━━━━━━━━━━━━━━━━\u001b[0m\u001b[37m\u001b[0m \u001b[1m0s\u001b[0m 1ms/step - auc: 0.8794 - loss: 0.0014 - precision: 0.6884 - recall: 0.8107 - val_auc: 0.9309 - val_loss: 0.3459 - val_precision: 0.7917 - val_recall: 0.9048\n",
      "Epoch 68/100\n",
      "\u001b[1m20/20\u001b[0m \u001b[32m━━━━━━━━━━━━━━━━━━━━\u001b[0m\u001b[37m\u001b[0m \u001b[1m0s\u001b[0m 1ms/step - auc: 0.8760 - loss: 0.0014 - precision: 0.6047 - recall: 0.8441 - val_auc: 0.9274 - val_loss: 0.3506 - val_precision: 0.7917 - val_recall: 0.9048\n",
      "Epoch 69/100\n",
      "\u001b[1m20/20\u001b[0m \u001b[32m━━━━━━━━━━━━━━━━━━━━\u001b[0m\u001b[37m\u001b[0m \u001b[1m0s\u001b[0m 1ms/step - auc: 0.8907 - loss: 0.0013 - precision: 0.6880 - recall: 0.8582 - val_auc: 0.9268 - val_loss: 0.3591 - val_precision: 0.6786 - val_recall: 0.9048\n",
      "Epoch 70/100\n",
      "\u001b[1m20/20\u001b[0m \u001b[32m━━━━━━━━━━━━━━━━━━━━\u001b[0m\u001b[37m\u001b[0m \u001b[1m0s\u001b[0m 1ms/step - auc: 0.8762 - loss: 0.0014 - precision: 0.6429 - recall: 0.8252 - val_auc: 0.9228 - val_loss: 0.3505 - val_precision: 0.7500 - val_recall: 0.8571\n",
      "Epoch 71/100\n",
      "\u001b[1m20/20\u001b[0m \u001b[32m━━━━━━━━━━━━━━━━━━━━\u001b[0m\u001b[37m\u001b[0m \u001b[1m0s\u001b[0m 1ms/step - auc: 0.8855 - loss: 0.0014 - precision: 0.6668 - recall: 0.8348 - val_auc: 0.9280 - val_loss: 0.3445 - val_precision: 0.7600 - val_recall: 0.9048\n",
      "Epoch 72/100\n",
      "\u001b[1m20/20\u001b[0m \u001b[32m━━━━━━━━━━━━━━━━━━━━\u001b[0m\u001b[37m\u001b[0m \u001b[1m0s\u001b[0m 1ms/step - auc: 0.8703 - loss: 0.0015 - precision: 0.6616 - recall: 0.7780 - val_auc: 0.9321 - val_loss: 0.3552 - val_precision: 0.7037 - val_recall: 0.9048\n",
      "Epoch 73/100\n",
      "\u001b[1m20/20\u001b[0m \u001b[32m━━━━━━━━━━━━━━━━━━━━\u001b[0m\u001b[37m\u001b[0m \u001b[1m0s\u001b[0m 1ms/step - auc: 0.8745 - loss: 0.0014 - precision: 0.6849 - recall: 0.8171 - val_auc: 0.9332 - val_loss: 0.3522 - val_precision: 0.7037 - val_recall: 0.9048\n",
      "Epoch 74/100\n",
      "\u001b[1m20/20\u001b[0m \u001b[32m━━━━━━━━━━━━━━━━━━━━\u001b[0m\u001b[37m\u001b[0m \u001b[1m0s\u001b[0m 1ms/step - auc: 0.8854 - loss: 0.0014 - precision: 0.6697 - recall: 0.8623 - val_auc: 0.9297 - val_loss: 0.3478 - val_precision: 0.7037 - val_recall: 0.9048\n",
      "Epoch 75/100\n",
      "\u001b[1m20/20\u001b[0m \u001b[32m━━━━━━━━━━━━━━━━━━━━\u001b[0m\u001b[37m\u001b[0m \u001b[1m0s\u001b[0m 1ms/step - auc: 0.8867 - loss: 0.0013 - precision: 0.6616 - recall: 0.8673 - val_auc: 0.9286 - val_loss: 0.3494 - val_precision: 0.7037 - val_recall: 0.9048\n",
      "Epoch 76/100\n",
      "\u001b[1m20/20\u001b[0m \u001b[32m━━━━━━━━━━━━━━━━━━━━\u001b[0m\u001b[37m\u001b[0m \u001b[1m0s\u001b[0m 1ms/step - auc: 0.8971 - loss: 0.0013 - precision: 0.7112 - recall: 0.8704 - val_auc: 0.9292 - val_loss: 0.3515 - val_precision: 0.7037 - val_recall: 0.9048\n",
      "Epoch 77/100\n",
      "\u001b[1m 1/20\u001b[0m \u001b[32m━\u001b[0m\u001b[37m━━━━━━━━━━━━━━━━━━━\u001b[0m \u001b[1m0s\u001b[0m 6ms/step - auc: 0.7877 - loss: 0.0020 - precision: 0.6875 - recall: 0.7857"
     ]
    },
    {
     "name": "stderr",
     "output_type": "stream",
     "text": [
      "WARNING:absl:You are saving your model as an HDF5 file via `model.save()` or `keras.saving.save_model(model)`. This file format is considered legacy. We recommend using instead the native Keras format, e.g. `model.save('my_model.keras')` or `keras.saving.save_model(model, 'my_model.keras')`. \n"
     ]
    },
    {
     "name": "stdout",
     "output_type": "stream",
     "text": [
      "\u001b[1m20/20\u001b[0m \u001b[32m━━━━━━━━━━━━━━━━━━━━\u001b[0m\u001b[37m\u001b[0m \u001b[1m0s\u001b[0m 2ms/step - auc: 0.8685 - loss: 0.0015 - precision: 0.6656 - recall: 0.8343 - val_auc: 0.9332 - val_loss: 0.3401 - val_precision: 0.7600 - val_recall: 0.9048\n",
      "Epoch 78/100\n",
      "\u001b[1m20/20\u001b[0m \u001b[32m━━━━━━━━━━━━━━━━━━━━\u001b[0m\u001b[37m\u001b[0m \u001b[1m0s\u001b[0m 1ms/step - auc: 0.8925 - loss: 0.0014 - precision: 0.7247 - recall: 0.8430 - val_auc: 0.9315 - val_loss: 0.3357 - val_precision: 0.7917 - val_recall: 0.9048\n",
      "Epoch 79/100\n",
      "\u001b[1m20/20\u001b[0m \u001b[32m━━━━━━━━━━━━━━━━━━━━\u001b[0m\u001b[37m\u001b[0m \u001b[1m0s\u001b[0m 1ms/step - auc: 0.8618 - loss: 0.0015 - precision: 0.6604 - recall: 0.8021 - val_auc: 0.9297 - val_loss: 0.3423 - val_precision: 0.7600 - val_recall: 0.9048\n",
      "Epoch 80/100\n",
      "\u001b[1m20/20\u001b[0m \u001b[32m━━━━━━━━━━━━━━━━━━━━\u001b[0m\u001b[37m\u001b[0m \u001b[1m0s\u001b[0m 1ms/step - auc: 0.8734 - loss: 0.0014 - precision: 0.6781 - recall: 0.8198 - val_auc: 0.9321 - val_loss: 0.3497 - val_precision: 0.7037 - val_recall: 0.9048\n",
      "Epoch 81/100\n",
      "\u001b[1m20/20\u001b[0m \u001b[32m━━━━━━━━━━━━━━━━━━━━\u001b[0m\u001b[37m\u001b[0m \u001b[1m0s\u001b[0m 1ms/step - auc: 0.8993 - loss: 0.0013 - precision: 0.6713 - recall: 0.8727 - val_auc: 0.9332 - val_loss: 0.3403 - val_precision: 0.7308 - val_recall: 0.9048\n",
      "Epoch 82/100\n",
      "\u001b[1m 1/20\u001b[0m \u001b[32m━\u001b[0m\u001b[37m━━━━━━━━━━━━━━━━━━━\u001b[0m \u001b[1m0s\u001b[0m 6ms/step - auc: 0.9464 - loss: 0.0010 - precision: 0.7647 - recall: 0.9286"
     ]
    },
    {
     "name": "stderr",
     "output_type": "stream",
     "text": [
      "WARNING:absl:You are saving your model as an HDF5 file via `model.save()` or `keras.saving.save_model(model)`. This file format is considered legacy. We recommend using instead the native Keras format, e.g. `model.save('my_model.keras')` or `keras.saving.save_model(model, 'my_model.keras')`. \n"
     ]
    },
    {
     "name": "stdout",
     "output_type": "stream",
     "text": [
      "\u001b[1m20/20\u001b[0m \u001b[32m━━━━━━━━━━━━━━━━━━━━\u001b[0m\u001b[37m\u001b[0m \u001b[1m0s\u001b[0m 2ms/step - auc: 0.9014 - loss: 0.0013 - precision: 0.6604 - recall: 0.8648 - val_auc: 0.9361 - val_loss: 0.3306 - val_precision: 0.7308 - val_recall: 0.9048\n",
      "Epoch 83/100\n",
      "\u001b[1m20/20\u001b[0m \u001b[32m━━━━━━━━━━━━━━━━━━━━\u001b[0m\u001b[37m\u001b[0m \u001b[1m0s\u001b[0m 1ms/step - auc: 0.8885 - loss: 0.0014 - precision: 0.6803 - recall: 0.8339 - val_auc: 0.9315 - val_loss: 0.3366 - val_precision: 0.6923 - val_recall: 0.8571\n",
      "Epoch 84/100\n",
      "\u001b[1m20/20\u001b[0m \u001b[32m━━━━━━━━━━━━━━━━━━━━\u001b[0m\u001b[37m\u001b[0m \u001b[1m0s\u001b[0m 1ms/step - auc: 0.8823 - loss: 0.0014 - precision: 0.6937 - recall: 0.8236 - val_auc: 0.9315 - val_loss: 0.3416 - val_precision: 0.6923 - val_recall: 0.8571\n",
      "Epoch 85/100\n",
      "\u001b[1m20/20\u001b[0m \u001b[32m━━━━━━━━━━━━━━━━━━━━\u001b[0m\u001b[37m\u001b[0m \u001b[1m0s\u001b[0m 1ms/step - auc: 0.8825 - loss: 0.0014 - precision: 0.6597 - recall: 0.8424 - val_auc: 0.9321 - val_loss: 0.3384 - val_precision: 0.6923 - val_recall: 0.8571\n",
      "Epoch 86/100\n",
      "\u001b[1m20/20\u001b[0m \u001b[32m━━━━━━━━━━━━━━━━━━━━\u001b[0m\u001b[37m\u001b[0m \u001b[1m0s\u001b[0m 1ms/step - auc: 0.8917 - loss: 0.0014 - precision: 0.6920 - recall: 0.8479 - val_auc: 0.9326 - val_loss: 0.3394 - val_precision: 0.7037 - val_recall: 0.9048\n",
      "Epoch 87/100\n",
      "\u001b[1m20/20\u001b[0m \u001b[32m━━━━━━━━━━━━━━━━━━━━\u001b[0m\u001b[37m\u001b[0m \u001b[1m0s\u001b[0m 1ms/step - auc: 0.8967 - loss: 0.0013 - precision: 0.6736 - recall: 0.8410 - val_auc: 0.9321 - val_loss: 0.3330 - val_precision: 0.6923 - val_recall: 0.8571\n",
      "Epoch 88/100\n",
      "\u001b[1m20/20\u001b[0m \u001b[32m━━━━━━━━━━━━━━━━━━━━\u001b[0m\u001b[37m\u001b[0m \u001b[1m0s\u001b[0m 1ms/step - auc: 0.8919 - loss: 0.0013 - precision: 0.7068 - recall: 0.8416 - val_auc: 0.9326 - val_loss: 0.3340 - val_precision: 0.7037 - val_recall: 0.9048\n",
      "Epoch 89/100\n",
      "\u001b[1m 1/20\u001b[0m \u001b[32m━\u001b[0m\u001b[37m━━━━━━━━━━━━━━━━━━━\u001b[0m \u001b[1m0s\u001b[0m 6ms/step - auc: 0.8773 - loss: 0.0014 - precision: 0.7143 - recall: 1.0000"
     ]
    },
    {
     "name": "stderr",
     "output_type": "stream",
     "text": [
      "WARNING:absl:You are saving your model as an HDF5 file via `model.save()` or `keras.saving.save_model(model)`. This file format is considered legacy. We recommend using instead the native Keras format, e.g. `model.save('my_model.keras')` or `keras.saving.save_model(model, 'my_model.keras')`. \n"
     ]
    },
    {
     "name": "stdout",
     "output_type": "stream",
     "text": [
      "\u001b[1m20/20\u001b[0m \u001b[32m━━━━━━━━━━━━━━━━━━━━\u001b[0m\u001b[37m\u001b[0m \u001b[1m0s\u001b[0m 2ms/step - auc: 0.9002 - loss: 0.0013 - precision: 0.7261 - recall: 0.8828 - val_auc: 0.9373 - val_loss: 0.3397 - val_precision: 0.7037 - val_recall: 0.9048\n",
      "Epoch 90/100\n",
      "\u001b[1m20/20\u001b[0m \u001b[32m━━━━━━━━━━━━━━━━━━━━\u001b[0m\u001b[37m\u001b[0m \u001b[1m0s\u001b[0m 1ms/step - auc: 0.8882 - loss: 0.0014 - precision: 0.6629 - recall: 0.8390 - val_auc: 0.9373 - val_loss: 0.3329 - val_precision: 0.7308 - val_recall: 0.9048\n",
      "Epoch 91/100\n",
      "\u001b[1m20/20\u001b[0m \u001b[32m━━━━━━━━━━━━━━━━━━━━\u001b[0m\u001b[37m\u001b[0m \u001b[1m0s\u001b[0m 1ms/step - auc: 0.8932 - loss: 0.0013 - precision: 0.6810 - recall: 0.8514 - val_auc: 0.9367 - val_loss: 0.3464 - val_precision: 0.6786 - val_recall: 0.9048\n",
      "Epoch 92/100\n",
      "\u001b[1m20/20\u001b[0m \u001b[32m━━━━━━━━━━━━━━━━━━━━\u001b[0m\u001b[37m\u001b[0m \u001b[1m0s\u001b[0m 1ms/step - auc: 0.8965 - loss: 0.0013 - precision: 0.7004 - recall: 0.8633 - val_auc: 0.9350 - val_loss: 0.3295 - val_precision: 0.7500 - val_recall: 0.8571\n",
      "Epoch 93/100\n",
      "\u001b[1m20/20\u001b[0m \u001b[32m━━━━━━━━━━━━━━━━━━━━\u001b[0m\u001b[37m\u001b[0m \u001b[1m0s\u001b[0m 1ms/step - auc: 0.9031 - loss: 0.0013 - precision: 0.6884 - recall: 0.8680 - val_auc: 0.9338 - val_loss: 0.3356 - val_precision: 0.6923 - val_recall: 0.8571\n",
      "Epoch 94/100\n",
      "\u001b[1m20/20\u001b[0m \u001b[32m━━━━━━━━━━━━━━━━━━━━\u001b[0m\u001b[37m\u001b[0m \u001b[1m0s\u001b[0m 1ms/step - auc: 0.8967 - loss: 0.0013 - precision: 0.6760 - recall: 0.8410 - val_auc: 0.9286 - val_loss: 0.3623 - val_precision: 0.6552 - val_recall: 0.9048\n",
      "Epoch 95/100\n",
      "\u001b[1m20/20\u001b[0m \u001b[32m━━━━━━━━━━━━━━━━━━━━\u001b[0m\u001b[37m\u001b[0m \u001b[1m0s\u001b[0m 1ms/step - auc: 0.9198 - loss: 0.0012 - precision: 0.7025 - recall: 0.9082 - val_auc: 0.9367 - val_loss: 0.3462 - val_precision: 0.6786 - val_recall: 0.9048\n",
      "Epoch 96/100\n",
      "\u001b[1m20/20\u001b[0m \u001b[32m━━━━━━━━━━━━━━━━━━━━\u001b[0m\u001b[37m\u001b[0m \u001b[1m0s\u001b[0m 1ms/step - auc: 0.8897 - loss: 0.0014 - precision: 0.6963 - recall: 0.8693 - val_auc: 0.9373 - val_loss: 0.3324 - val_precision: 0.7200 - val_recall: 0.8571\n",
      "Epoch 97/100\n",
      "\u001b[1m20/20\u001b[0m \u001b[32m━━━━━━━━━━━━━━━━━━━━\u001b[0m\u001b[37m\u001b[0m \u001b[1m0s\u001b[0m 1ms/step - auc: 0.9094 - loss: 0.0012 - precision: 0.7214 - recall: 0.8551 - val_auc: 0.9373 - val_loss: 0.3357 - val_precision: 0.7037 - val_recall: 0.9048\n",
      "Epoch 98/100\n",
      "\u001b[1m 1/20\u001b[0m \u001b[32m━\u001b[0m\u001b[37m━━━━━━━━━━━━━━━━━━━\u001b[0m \u001b[1m0s\u001b[0m 6ms/step - auc: 0.7961 - loss: 0.0022 - precision: 0.6667 - recall: 0.8000"
     ]
    },
    {
     "name": "stderr",
     "output_type": "stream",
     "text": [
      "WARNING:absl:You are saving your model as an HDF5 file via `model.save()` or `keras.saving.save_model(model)`. This file format is considered legacy. We recommend using instead the native Keras format, e.g. `model.save('my_model.keras')` or `keras.saving.save_model(model, 'my_model.keras')`. \n"
     ]
    },
    {
     "name": "stdout",
     "output_type": "stream",
     "text": [
      "\u001b[1m20/20\u001b[0m \u001b[32m━━━━━━━━━━━━━━━━━━━━\u001b[0m\u001b[37m\u001b[0m \u001b[1m0s\u001b[0m 2ms/step - auc: 0.8928 - loss: 0.0014 - precision: 0.6776 - recall: 0.8564 - val_auc: 0.9384 - val_loss: 0.3338 - val_precision: 0.6923 - val_recall: 0.8571\n",
      "Epoch 99/100\n",
      "\u001b[1m20/20\u001b[0m \u001b[32m━━━━━━━━━━━━━━━━━━━━\u001b[0m\u001b[37m\u001b[0m \u001b[1m0s\u001b[0m 1ms/step - auc: 0.8994 - loss: 0.0013 - precision: 0.6796 - recall: 0.8504 - val_auc: 0.9361 - val_loss: 0.3351 - val_precision: 0.6786 - val_recall: 0.9048\n",
      "Epoch 100/100\n",
      "\u001b[1m 1/20\u001b[0m \u001b[32m━\u001b[0m\u001b[37m━━━━━━━━━━━━━━━━━━━\u001b[0m \u001b[1m0s\u001b[0m 6ms/step - auc: 0.8528 - loss: 0.0016 - precision: 0.6667 - recall: 0.7273"
     ]
    },
    {
     "name": "stderr",
     "output_type": "stream",
     "text": [
      "WARNING:absl:You are saving your model as an HDF5 file via `model.save()` or `keras.saving.save_model(model)`. This file format is considered legacy. We recommend using instead the native Keras format, e.g. `model.save('my_model.keras')` or `keras.saving.save_model(model, 'my_model.keras')`. \n"
     ]
    },
    {
     "name": "stdout",
     "output_type": "stream",
     "text": [
      "\u001b[1m20/20\u001b[0m \u001b[32m━━━━━━━━━━━━━━━━━━━━\u001b[0m\u001b[37m\u001b[0m \u001b[1m0s\u001b[0m 2ms/step - auc: 0.9084 - loss: 0.0013 - precision: 0.6914 - recall: 0.8420 - val_auc: 0.9431 - val_loss: 0.3305 - val_precision: 0.6786 - val_recall: 0.9048\n"
     ]
    }
   ],
   "source": [
    "# Train model\n",
    "input_dim= (X.shape[1],)\n",
    "model, history = train_model(X_subtrain, y_subtrain, X_val, y_val,input_dim)"
   ]
  },
  {
   "cell_type": "code",
   "execution_count": 23,
   "id": "0584cab9-5b91-4996-88f4-2be0045b6276",
   "metadata": {},
   "outputs": [
    {
     "data": {
      "text/plain": [
       "{'auc': [0.5919979810714722,\n",
       "  0.7411848306655884,\n",
       "  0.7461194396018982,\n",
       "  0.7699066400527954,\n",
       "  0.7956746816635132,\n",
       "  0.8054976463317871,\n",
       "  0.8191490173339844,\n",
       "  0.8172203898429871,\n",
       "  0.8300493359565735,\n",
       "  0.8244370222091675,\n",
       "  0.8400750756263733,\n",
       "  0.83278888463974,\n",
       "  0.8377177715301514,\n",
       "  0.8388587832450867,\n",
       "  0.8354358077049255,\n",
       "  0.8579545617103577,\n",
       "  0.8333333730697632,\n",
       "  0.8483458161354065,\n",
       "  0.8467183113098145,\n",
       "  0.8433300852775574,\n",
       "  0.8466488122940063,\n",
       "  0.8522495627403259,\n",
       "  0.8544967770576477,\n",
       "  0.8449575901031494,\n",
       "  0.8571668863296509,\n",
       "  0.849266767501831,\n",
       "  0.8504135608673096,\n",
       "  0.8581398725509644,\n",
       "  0.853610634803772,\n",
       "  0.8578908443450928,\n",
       "  0.845745325088501,\n",
       "  0.8550354242324829,\n",
       "  0.8547168970108032,\n",
       "  0.8586496114730835,\n",
       "  0.855371356010437,\n",
       "  0.8581862449645996,\n",
       "  0.8679165840148926,\n",
       "  0.8584932088851929,\n",
       "  0.8645341396331787,\n",
       "  0.858064591884613,\n",
       "  0.8704765439033508,\n",
       "  0.871142566204071,\n",
       "  0.8668913245201111,\n",
       "  0.8689764738082886,\n",
       "  0.8594083189964294,\n",
       "  0.869022786617279,\n",
       "  0.8786256313323975,\n",
       "  0.8738416433334351,\n",
       "  0.8674300312995911,\n",
       "  0.8689475655555725,\n",
       "  0.8782087564468384,\n",
       "  0.8832534551620483,\n",
       "  0.8812261819839478,\n",
       "  0.8707893490791321,\n",
       "  0.8726658821105957,\n",
       "  0.8704997301101685,\n",
       "  0.868194580078125,\n",
       "  0.8687505722045898,\n",
       "  0.8758630156517029,\n",
       "  0.8782781958580017,\n",
       "  0.874200701713562,\n",
       "  0.8721561431884766,\n",
       "  0.8845450282096863,\n",
       "  0.8852226138114929,\n",
       "  0.8912287950515747,\n",
       "  0.8743512630462646,\n",
       "  0.8679165244102478,\n",
       "  0.8753359317779541,\n",
       "  0.8766796588897705,\n",
       "  0.877826452255249,\n",
       "  0.881011962890625,\n",
       "  0.8845392465591431,\n",
       "  0.8849678039550781,\n",
       "  0.8834155797958374,\n",
       "  0.8811336159706116,\n",
       "  0.8802706003189087,\n",
       "  0.8743744492530823,\n",
       "  0.8903947472572327,\n",
       "  0.8857728242874146,\n",
       "  0.8769692182540894,\n",
       "  0.8878231644630432,\n",
       "  0.8943216800689697,\n",
       "  0.885697603225708,\n",
       "  0.8881822824478149,\n",
       "  0.8905974626541138,\n",
       "  0.8829811811447144,\n",
       "  0.881637454032898,\n",
       "  0.8917849063873291,\n",
       "  0.890110969543457,\n",
       "  0.8815563917160034,\n",
       "  0.8895838856697083,\n",
       "  0.8833692073822021,\n",
       "  0.8832650184631348,\n",
       "  0.9060269594192505,\n",
       "  0.8953120708465576,\n",
       "  0.8880606293678284,\n",
       "  0.8875278234481812,\n",
       "  0.8871976137161255,\n",
       "  0.8887903690338135,\n",
       "  0.8948487043380737],\n",
       " 'loss': [0.0022234239149838686,\n",
       "  0.0020898529328405857,\n",
       "  0.0020248389337211847,\n",
       "  0.001933391555212438,\n",
       "  0.001849282649345696,\n",
       "  0.0017860796069726348,\n",
       "  0.0017089227912947536,\n",
       "  0.0017286308575421572,\n",
       "  0.0016756721306592226,\n",
       "  0.0016866843216121197,\n",
       "  0.0016295352252200246,\n",
       "  0.0016347059281542897,\n",
       "  0.001605787081643939,\n",
       "  0.0016188911395147443,\n",
       "  0.0016107626724988222,\n",
       "  0.0015285549452528358,\n",
       "  0.0016409289091825485,\n",
       "  0.0015622482169419527,\n",
       "  0.0015732625033706427,\n",
       "  0.001568647101521492,\n",
       "  0.0015733379404991865,\n",
       "  0.0015410349005833268,\n",
       "  0.0015380557160824537,\n",
       "  0.0015657644253224134,\n",
       "  0.0015210277633741498,\n",
       "  0.0015716403722763062,\n",
       "  0.0015418174443766475,\n",
       "  0.0015236837789416313,\n",
       "  0.00155077432282269,\n",
       "  0.0015223874943330884,\n",
       "  0.0015755603089928627,\n",
       "  0.0015363926067948341,\n",
       "  0.0015755915082991123,\n",
       "  0.0015112401451915503,\n",
       "  0.0015299252700060606,\n",
       "  0.001508135348558426,\n",
       "  0.001475977012887597,\n",
       "  0.001526724430732429,\n",
       "  0.0014864294789731503,\n",
       "  0.001508810673840344,\n",
       "  0.0014690619427710772,\n",
       "  0.0014452202012762427,\n",
       "  0.0014782343059778214,\n",
       "  0.0014714611461386085,\n",
       "  0.0015066966880112886,\n",
       "  0.001461828127503395,\n",
       "  0.0014236829010769725,\n",
       "  0.0014246833743527532,\n",
       "  0.001455790945328772,\n",
       "  0.0014706916408613324,\n",
       "  0.0014228465734049678,\n",
       "  0.001401830231770873,\n",
       "  0.0014079561224207282,\n",
       "  0.00146872375626117,\n",
       "  0.0014379806816577911,\n",
       "  0.0014621715527027845,\n",
       "  0.0014752387069165707,\n",
       "  0.00147330726031214,\n",
       "  0.0014265747740864754,\n",
       "  0.001424187794327736,\n",
       "  0.0014311156701296568,\n",
       "  0.0014562184223905206,\n",
       "  0.0014069199096411467,\n",
       "  0.0013801786117255688,\n",
       "  0.0013585856650024652,\n",
       "  0.001433705911040306,\n",
       "  0.0014430721057578921,\n",
       "  0.001443075598217547,\n",
       "  0.0014285406796261668,\n",
       "  0.0014233664842322469,\n",
       "  0.0014087473973631859,\n",
       "  0.0013939865166321397,\n",
       "  0.0013972704764455557,\n",
       "  0.0013882722705602646,\n",
       "  0.0014208470238372684,\n",
       "  0.0014013727195560932,\n",
       "  0.0014372055884450674,\n",
       "  0.0013588308356702328,\n",
       "  0.00137864809948951,\n",
       "  0.0014311735285446048,\n",
       "  0.001384761999361217,\n",
       "  0.0013496699975803494,\n",
       "  0.0013862706255167723,\n",
       "  0.0013753288658335805,\n",
       "  0.0013233908684924245,\n",
       "  0.0013922115322202444,\n",
       "  0.001389872981235385,\n",
       "  0.0013495879247784615,\n",
       "  0.0013625494902953506,\n",
       "  0.001404167735017836,\n",
       "  0.0013608267763629556,\n",
       "  0.001380699803121388,\n",
       "  0.0014055661158636212,\n",
       "  0.0012795814545825124,\n",
       "  0.00133341399487108,\n",
       "  0.0013489729026332498,\n",
       "  0.0013800408923998475,\n",
       "  0.001385497977025807,\n",
       "  0.0013764207251369953,\n",
       "  0.001313480082899332],\n",
       " 'precision': [0.3824999928474426,\n",
       "  0.45747125148773193,\n",
       "  0.5043731927871704,\n",
       "  0.5745454430580139,\n",
       "  0.5745454430580139,\n",
       "  0.5863309502601624,\n",
       "  0.6106870174407959,\n",
       "  0.6037735939025879,\n",
       "  0.6139705777168274,\n",
       "  0.6377952694892883,\n",
       "  0.6254826188087463,\n",
       "  0.6297709941864014,\n",
       "  0.6278195381164551,\n",
       "  0.6328125,\n",
       "  0.6254545450210571,\n",
       "  0.6373626589775085,\n",
       "  0.6029962301254272,\n",
       "  0.6346153616905212,\n",
       "  0.6101694703102112,\n",
       "  0.6353383660316467,\n",
       "  0.6091549396514893,\n",
       "  0.5944055914878845,\n",
       "  0.6276595592498779,\n",
       "  0.6052631735801697,\n",
       "  0.6245487332344055,\n",
       "  0.6370370388031006,\n",
       "  0.6113074421882629,\n",
       "  0.6470588445663452,\n",
       "  0.6554307341575623,\n",
       "  0.6190476417541504,\n",
       "  0.6156583428382874,\n",
       "  0.63670414686203,\n",
       "  0.631205677986145,\n",
       "  0.6279863715171814,\n",
       "  0.6360424160957336,\n",
       "  0.6142857074737549,\n",
       "  0.6441947817802429,\n",
       "  0.6276595592498779,\n",
       "  0.6464285850524902,\n",
       "  0.6241135001182556,\n",
       "  0.6401383876800537,\n",
       "  0.6534296274185181,\n",
       "  0.6591760516166687,\n",
       "  0.6446886658668518,\n",
       "  0.6350364685058594,\n",
       "  0.6554307341575623,\n",
       "  0.6595744490623474,\n",
       "  0.6555555462837219,\n",
       "  0.6459854245185852,\n",
       "  0.6501767039299011,\n",
       "  0.6654275059700012,\n",
       "  0.67578125,\n",
       "  0.6666666865348816,\n",
       "  0.6654275059700012,\n",
       "  0.6410256624221802,\n",
       "  0.6591760516166687,\n",
       "  0.6555555462837219,\n",
       "  0.6581818461418152,\n",
       "  0.660649836063385,\n",
       "  0.654411792755127,\n",
       "  0.6408450603485107,\n",
       "  0.6704545617103577,\n",
       "  0.660649836063385,\n",
       "  0.6802973747253418,\n",
       "  0.6972111463546753,\n",
       "  0.6717557311058044,\n",
       "  0.6407407522201538,\n",
       "  0.6678832173347473,\n",
       "  0.6515151262283325,\n",
       "  0.6446886658668518,\n",
       "  0.6512455344200134,\n",
       "  0.6763636469841003,\n",
       "  0.6642066240310669,\n",
       "  0.6666666865348816,\n",
       "  0.686274528503418,\n",
       "  0.6571428775787354,\n",
       "  0.6410256624221802,\n",
       "  0.678966760635376,\n",
       "  0.6764705777168274,\n",
       "  0.6616541147232056,\n",
       "  0.6690391302108765,\n",
       "  0.6858237385749817,\n",
       "  0.6814814805984497,\n",
       "  0.6691729426383972,\n",
       "  0.6811594367027283,\n",
       "  0.6727941036224365,\n",
       "  0.6618704795837402,\n",
       "  0.6800000071525574,\n",
       "  0.6795367002487183,\n",
       "  0.6629213690757751,\n",
       "  0.6842105388641357,\n",
       "  0.6487455368041992,\n",
       "  0.6850393414497375,\n",
       "  0.6911764740943909,\n",
       "  0.6823104619979858,\n",
       "  0.6756756901741028,\n",
       "  0.6742424368858337,\n",
       "  0.6583629846572876,\n",
       "  0.6366782188415527,\n",
       "  0.6765799522399902],\n",
       " 'recall': [0.7018348574638367,\n",
       "  0.9128440618515015,\n",
       "  0.7935779690742493,\n",
       "  0.7247706651687622,\n",
       "  0.7247706651687622,\n",
       "  0.747706413269043,\n",
       "  0.7339449524879456,\n",
       "  0.7339449524879456,\n",
       "  0.7660550475120544,\n",
       "  0.7431192398071289,\n",
       "  0.7431192398071289,\n",
       "  0.7568807601928711,\n",
       "  0.7660550475120544,\n",
       "  0.7431192398071289,\n",
       "  0.78899085521698,\n",
       "  0.7981651425361633,\n",
       "  0.7385321259498596,\n",
       "  0.7568807601928711,\n",
       "  0.8256880640983582,\n",
       "  0.7752293348312378,\n",
       "  0.7935779690742493,\n",
       "  0.7798165082931519,\n",
       "  0.8119266033172607,\n",
       "  0.7385321259498596,\n",
       "  0.7935779690742493,\n",
       "  0.78899085521698,\n",
       "  0.7935779690742493,\n",
       "  0.8073394298553467,\n",
       "  0.8027523159980774,\n",
       "  0.8348624110221863,\n",
       "  0.7935779690742493,\n",
       "  0.7798165082931519,\n",
       "  0.8165137767791748,\n",
       "  0.8440366983413696,\n",
       "  0.8256880640983582,\n",
       "  0.78899085521698,\n",
       "  0.78899085521698,\n",
       "  0.8119266033172607,\n",
       "  0.8302752375602722,\n",
       "  0.8073394298553467,\n",
       "  0.8486238718032837,\n",
       "  0.8302752375602722,\n",
       "  0.8073394298553467,\n",
       "  0.8073394298553467,\n",
       "  0.7981651425361633,\n",
       "  0.8027523159980774,\n",
       "  0.853210985660553,\n",
       "  0.8119266033172607,\n",
       "  0.8119266033172607,\n",
       "  0.8440366983413696,\n",
       "  0.8211008906364441,\n",
       "  0.7935779690742493,\n",
       "  0.8348624110221863,\n",
       "  0.8211008906364441,\n",
       "  0.8027523159980774,\n",
       "  0.8073394298553467,\n",
       "  0.8119266033172607,\n",
       "  0.8302752375602722,\n",
       "  0.8394495248794556,\n",
       "  0.8165137767791748,\n",
       "  0.8348624110221863,\n",
       "  0.8119266033172607,\n",
       "  0.8394495248794556,\n",
       "  0.8394495248794556,\n",
       "  0.8027523159980774,\n",
       "  0.8073394298553467,\n",
       "  0.7935779690742493,\n",
       "  0.8394495248794556,\n",
       "  0.78899085521698,\n",
       "  0.8073394298553467,\n",
       "  0.8394495248794556,\n",
       "  0.853210985660553,\n",
       "  0.8256880640983582,\n",
       "  0.8348624110221863,\n",
       "  0.8027523159980774,\n",
       "  0.8440366983413696,\n",
       "  0.8027523159980774,\n",
       "  0.8440366983413696,\n",
       "  0.8440366983413696,\n",
       "  0.8073394298553467,\n",
       "  0.8623853325843811,\n",
       "  0.8211008906364441,\n",
       "  0.8440366983413696,\n",
       "  0.8165137767791748,\n",
       "  0.8623853325843811,\n",
       "  0.8394495248794556,\n",
       "  0.8440366983413696,\n",
       "  0.857798159122467,\n",
       "  0.8073394298553467,\n",
       "  0.8119266033172607,\n",
       "  0.8348624110221863,\n",
       "  0.8302752375602722,\n",
       "  0.7981651425361633,\n",
       "  0.8623853325843811,\n",
       "  0.8669725060462952,\n",
       "  0.8027523159980774,\n",
       "  0.8165137767791748,\n",
       "  0.8486238718032837,\n",
       "  0.8440366983413696,\n",
       "  0.8348624110221863],\n",
       " 'val_auc': [0.7398374080657959,\n",
       "  0.8060395121574402,\n",
       "  0.8252032995223999,\n",
       "  0.8443670272827148,\n",
       "  0.8548200130462646,\n",
       "  0.8641114830970764,\n",
       "  0.8745644092559814,\n",
       "  0.8693380355834961,\n",
       "  0.8826944828033447,\n",
       "  0.888501763343811,\n",
       "  0.8931474685668945,\n",
       "  0.8989546895027161,\n",
       "  0.9012775421142578,\n",
       "  0.9012776017189026,\n",
       "  0.9053425788879395,\n",
       "  0.9047618508338928,\n",
       "  0.9088269472122192,\n",
       "  0.9065040349960327,\n",
       "  0.9070847034454346,\n",
       "  0.9099884033203125,\n",
       "  0.9088268876075745,\n",
       "  0.9082462787628174,\n",
       "  0.9117305278778076,\n",
       "  0.9094076156616211,\n",
       "  0.9123112559318542,\n",
       "  0.9128919839859009,\n",
       "  0.9221834540367126,\n",
       "  0.922764241695404,\n",
       "  0.9152148365974426,\n",
       "  0.9233449101448059,\n",
       "  0.9268292784690857,\n",
       "  0.9256678223609924,\n",
       "  0.9268292188644409,\n",
       "  0.9262485504150391,\n",
       "  0.9268293380737305,\n",
       "  0.9314749836921692,\n",
       "  0.9308942556381226,\n",
       "  0.9308942556381226,\n",
       "  0.9297328591346741,\n",
       "  0.931475043296814,\n",
       "  0.931475043296814,\n",
       "  0.9308943152427673,\n",
       "  0.9291521310806274,\n",
       "  0.9308942556381226,\n",
       "  0.9279906749725342,\n",
       "  0.931475043296814,\n",
       "  0.9285714030265808,\n",
       "  0.9291521310806274,\n",
       "  0.9268292188644409,\n",
       "  0.9279906749725342,\n",
       "  0.9285714030265808,\n",
       "  0.9308942556381226,\n",
       "  0.9355400204658508,\n",
       "  0.9343786239624023,\n",
       "  0.9332171678543091,\n",
       "  0.9343786239624023,\n",
       "  0.9349592924118042,\n",
       "  0.9361207485198975,\n",
       "  0.9332171678543091,\n",
       "  0.9343786239624023,\n",
       "  0.9367014765739441,\n",
       "  0.9378629326820374,\n",
       "  0.9390243291854858,\n",
       "  0.9401857852935791,\n",
       "  0.9413473010063171,\n",
       "  0.9367014765739441,\n",
       "  0.9378629326820374,\n",
       "  0.9396051168441772,\n",
       "  0.9390243291854858,\n",
       "  0.938443660736084,\n",
       "  0.938443660736084,\n",
       "  0.9396051168441772,\n",
       "  0.9378628730773926,\n",
       "  0.9407665133476257,\n",
       "  0.9401857852935791,\n",
       "  0.9367015361785889,\n",
       "  0.9349592924118042,\n",
       "  0.9367015361785889,\n",
       "  0.9367015361785889,\n",
       "  0.9390243887901306,\n",
       "  0.9396050572395325,\n",
       "  0.9372822046279907,\n",
       "  0.9372822046279907,\n",
       "  0.9367015361785889,\n",
       "  0.938443660736084,\n",
       "  0.941927969455719,\n",
       "  0.9430894255638123,\n",
       "  0.9425086975097656,\n",
       "  0.9413472414016724,\n",
       "  0.9430893659591675,\n",
       "  0.9430893659591675,\n",
       "  0.9442508816719055,\n",
       "  0.9436701536178589,\n",
       "  0.938443660736084,\n",
       "  0.9367014169692993,\n",
       "  0.9401857852935791,\n",
       "  0.9436701536178589,\n",
       "  0.9407665729522705,\n",
       "  0.9413472414016724,\n",
       "  0.9407665133476257],\n",
       " 'val_loss': [0.6750895977020264,\n",
       "  0.6507041454315186,\n",
       "  0.5997916460037231,\n",
       "  0.5651293992996216,\n",
       "  0.5357434749603271,\n",
       "  0.5008159875869751,\n",
       "  0.48262348771095276,\n",
       "  0.4697192311286926,\n",
       "  0.4403028190135956,\n",
       "  0.43029049038887024,\n",
       "  0.43022677302360535,\n",
       "  0.42375269532203674,\n",
       "  0.41284042596817017,\n",
       "  0.4137325882911682,\n",
       "  0.4115223288536072,\n",
       "  0.3975740373134613,\n",
       "  0.4057409167289734,\n",
       "  0.40389755368232727,\n",
       "  0.4080364406108856,\n",
       "  0.39133957028388977,\n",
       "  0.3964069187641144,\n",
       "  0.39776113629341125,\n",
       "  0.3865548074245453,\n",
       "  0.38991159200668335,\n",
       "  0.39127978682518005,\n",
       "  0.3857562839984894,\n",
       "  0.3990325629711151,\n",
       "  0.3865419924259186,\n",
       "  0.39175525307655334,\n",
       "  0.4027653932571411,\n",
       "  0.3850899934768677,\n",
       "  0.3870018422603607,\n",
       "  0.39913704991340637,\n",
       "  0.3915160298347473,\n",
       "  0.380469411611557,\n",
       "  0.3816000521183014,\n",
       "  0.37656232714653015,\n",
       "  0.3835851550102234,\n",
       "  0.3820003867149353,\n",
       "  0.3861764371395111,\n",
       "  0.38185688853263855,\n",
       "  0.37133345007896423,\n",
       "  0.3665017783641815,\n",
       "  0.3641126751899719,\n",
       "  0.3867986500263214,\n",
       "  0.3724946081638336,\n",
       "  0.37273356318473816,\n",
       "  0.35935649275779724,\n",
       "  0.37149447202682495,\n",
       "  0.3811946511268616,\n",
       "  0.36973583698272705,\n",
       "  0.36151042580604553,\n",
       "  0.3681492209434509,\n",
       "  0.365940123796463,\n",
       "  0.3646777272224426,\n",
       "  0.3583362400531769,\n",
       "  0.36292150616645813,\n",
       "  0.356954425573349,\n",
       "  0.3581600785255432,\n",
       "  0.3646778464317322,\n",
       "  0.3579212427139282,\n",
       "  0.3571106493473053,\n",
       "  0.34999915957450867,\n",
       "  0.3458021283149719,\n",
       "  0.3405420184135437,\n",
       "  0.341045618057251,\n",
       "  0.347164511680603,\n",
       "  0.34678834676742554,\n",
       "  0.3427765369415283,\n",
       "  0.3460722267627716,\n",
       "  0.34111467003822327,\n",
       "  0.33901041746139526,\n",
       "  0.3363376259803772,\n",
       "  0.334045946598053,\n",
       "  0.3340458273887634,\n",
       "  0.34521737694740295,\n",
       "  0.3357025384902954,\n",
       "  0.33704131841659546,\n",
       "  0.3346850872039795,\n",
       "  0.33298391103744507,\n",
       "  0.33753085136413574,\n",
       "  0.33137598633766174,\n",
       "  0.33389201760292053,\n",
       "  0.33678171038627625,\n",
       "  0.33538761734962463,\n",
       "  0.3330995440483093,\n",
       "  0.33414170145988464,\n",
       "  0.327052503824234,\n",
       "  0.3250894248485565,\n",
       "  0.3239167034626007,\n",
       "  0.32948291301727295,\n",
       "  0.3282920718193054,\n",
       "  0.3348645269870758,\n",
       "  0.3314439654350281,\n",
       "  0.3238329589366913,\n",
       "  0.32545986771583557,\n",
       "  0.3235662579536438,\n",
       "  0.3347563147544861,\n",
       "  0.32643818855285645,\n",
       "  0.3294771909713745],\n",
       " 'val_precision': [0.41860464215278625,\n",
       "  0.44736841320991516,\n",
       "  0.5714285969734192,\n",
       "  0.5714285969734192,\n",
       "  0.5714285969734192,\n",
       "  0.6000000238418579,\n",
       "  0.6399999856948853,\n",
       "  0.6153846383094788,\n",
       "  0.6666666865348816,\n",
       "  0.6666666865348816,\n",
       "  0.6800000071525574,\n",
       "  0.6538461446762085,\n",
       "  0.6800000071525574,\n",
       "  0.6538461446762085,\n",
       "  0.6800000071525574,\n",
       "  0.6666666865348816,\n",
       "  0.6538461446762085,\n",
       "  0.6399999856948853,\n",
       "  0.6296296119689941,\n",
       "  0.6399999856948853,\n",
       "  0.6538461446762085,\n",
       "  0.6666666865348816,\n",
       "  0.6800000071525574,\n",
       "  0.6785714030265808,\n",
       "  0.6785714030265808,\n",
       "  0.6538461446762085,\n",
       "  0.6785714030265808,\n",
       "  0.6785714030265808,\n",
       "  0.6785714030265808,\n",
       "  0.6551724076271057,\n",
       "  0.7037037014961243,\n",
       "  0.7037037014961243,\n",
       "  0.7037037014961243,\n",
       "  0.7037037014961243,\n",
       "  0.7037037014961243,\n",
       "  0.7037037014961243,\n",
       "  0.7037037014961243,\n",
       "  0.7037037014961243,\n",
       "  0.7037037014961243,\n",
       "  0.6785714030265808,\n",
       "  0.6785714030265808,\n",
       "  0.6785714030265808,\n",
       "  0.7200000286102295,\n",
       "  0.75,\n",
       "  0.7037037014961243,\n",
       "  0.7037037014961243,\n",
       "  0.6785714030265808,\n",
       "  0.692307710647583,\n",
       "  0.6785714030265808,\n",
       "  0.6785714030265808,\n",
       "  0.7599999904632568,\n",
       "  0.7307692170143127,\n",
       "  0.7307692170143127,\n",
       "  0.7307692170143127,\n",
       "  0.7307692170143127,\n",
       "  0.7307692170143127,\n",
       "  0.6785714030265808,\n",
       "  0.7037037014961243,\n",
       "  0.7307692170143127,\n",
       "  0.7037037014961243,\n",
       "  0.7307692170143127,\n",
       "  0.7037037014961243,\n",
       "  0.7599999904632568,\n",
       "  0.7599999904632568,\n",
       "  0.782608687877655,\n",
       "  0.7916666865348816,\n",
       "  0.7599999904632568,\n",
       "  0.7307692170143127,\n",
       "  0.7916666865348816,\n",
       "  0.7599999904632568,\n",
       "  0.7916666865348816,\n",
       "  0.7916666865348816,\n",
       "  0.7916666865348816,\n",
       "  0.7599999904632568,\n",
       "  0.7599999904632568,\n",
       "  0.7307692170143127,\n",
       "  0.7916666865348816,\n",
       "  0.7599999904632568,\n",
       "  0.7916666865348816,\n",
       "  0.8260869383811951,\n",
       "  0.7916666865348816,\n",
       "  0.7916666865348816,\n",
       "  0.7599999904632568,\n",
       "  0.7599999904632568,\n",
       "  0.7599999904632568,\n",
       "  0.7916666865348816,\n",
       "  0.7599999904632568,\n",
       "  0.7916666865348816,\n",
       "  0.7916666865348816,\n",
       "  0.7916666865348816,\n",
       "  0.7599999904632568,\n",
       "  0.7599999904632568,\n",
       "  0.7307692170143127,\n",
       "  0.7307692170143127,\n",
       "  0.7916666865348816,\n",
       "  0.7916666865348816,\n",
       "  0.7916666865348816,\n",
       "  0.7307692170143127,\n",
       "  0.7916666865348816,\n",
       "  0.7599999904632568],\n",
       " 'val_recall': [0.8571428656578064,\n",
       "  0.8095238208770752,\n",
       "  0.761904776096344,\n",
       "  0.761904776096344,\n",
       "  0.761904776096344,\n",
       "  0.7142857313156128,\n",
       "  0.761904776096344,\n",
       "  0.761904776096344,\n",
       "  0.761904776096344,\n",
       "  0.761904776096344,\n",
       "  0.8095238208770752,\n",
       "  0.8095238208770752,\n",
       "  0.8095238208770752,\n",
       "  0.8095238208770752,\n",
       "  0.8095238208770752,\n",
       "  0.761904776096344,\n",
       "  0.8095238208770752,\n",
       "  0.761904776096344,\n",
       "  0.8095238208770752,\n",
       "  0.761904776096344,\n",
       "  0.8095238208770752,\n",
       "  0.8571428656578064,\n",
       "  0.8095238208770752,\n",
       "  0.9047619104385376,\n",
       "  0.9047619104385376,\n",
       "  0.8095238208770752,\n",
       "  0.9047619104385376,\n",
       "  0.9047619104385376,\n",
       "  0.9047619104385376,\n",
       "  0.9047619104385376,\n",
       "  0.9047619104385376,\n",
       "  0.9047619104385376,\n",
       "  0.9047619104385376,\n",
       "  0.9047619104385376,\n",
       "  0.9047619104385376,\n",
       "  0.9047619104385376,\n",
       "  0.9047619104385376,\n",
       "  0.9047619104385376,\n",
       "  0.9047619104385376,\n",
       "  0.9047619104385376,\n",
       "  0.9047619104385376,\n",
       "  0.9047619104385376,\n",
       "  0.8571428656578064,\n",
       "  0.8571428656578064,\n",
       "  0.9047619104385376,\n",
       "  0.9047619104385376,\n",
       "  0.9047619104385376,\n",
       "  0.8571428656578064,\n",
       "  0.9047619104385376,\n",
       "  0.9047619104385376,\n",
       "  0.9047619104385376,\n",
       "  0.9047619104385376,\n",
       "  0.9047619104385376,\n",
       "  0.9047619104385376,\n",
       "  0.9047619104385376,\n",
       "  0.9047619104385376,\n",
       "  0.9047619104385376,\n",
       "  0.9047619104385376,\n",
       "  0.9047619104385376,\n",
       "  0.9047619104385376,\n",
       "  0.9047619104385376,\n",
       "  0.9047619104385376,\n",
       "  0.9047619104385376,\n",
       "  0.9047619104385376,\n",
       "  0.8571428656578064,\n",
       "  0.9047619104385376,\n",
       "  0.9047619104385376,\n",
       "  0.9047619104385376,\n",
       "  0.9047619104385376,\n",
       "  0.9047619104385376,\n",
       "  0.9047619104385376,\n",
       "  0.9047619104385376,\n",
       "  0.9047619104385376,\n",
       "  0.9047619104385376,\n",
       "  0.9047619104385376,\n",
       "  0.9047619104385376,\n",
       "  0.9047619104385376,\n",
       "  0.9047619104385376,\n",
       "  0.9047619104385376,\n",
       "  0.9047619104385376,\n",
       "  0.9047619104385376,\n",
       "  0.9047619104385376,\n",
       "  0.9047619104385376,\n",
       "  0.9047619104385376,\n",
       "  0.9047619104385376,\n",
       "  0.9047619104385376,\n",
       "  0.9047619104385376,\n",
       "  0.9047619104385376,\n",
       "  0.9047619104385376,\n",
       "  0.9047619104385376,\n",
       "  0.9047619104385376,\n",
       "  0.9047619104385376,\n",
       "  0.9047619104385376,\n",
       "  0.9047619104385376,\n",
       "  0.9047619104385376,\n",
       "  0.9047619104385376,\n",
       "  0.9047619104385376,\n",
       "  0.9047619104385376,\n",
       "  0.9047619104385376,\n",
       "  0.9047619104385376]}"
      ]
     },
     "execution_count": 23,
     "metadata": {},
     "output_type": "execute_result"
    }
   ],
   "source": [
    "history.history"
   ]
  },
  {
   "cell_type": "code",
   "execution_count": 45,
   "id": "2600b916-ded7-480b-bb6a-eb867e6b5f29",
   "metadata": {},
   "outputs": [
    {
     "name": "stdout",
     "output_type": "stream",
     "text": [
      "\u001b[1m5/5\u001b[0m \u001b[32m━━━━━━━━━━━━━━━━━━━━\u001b[0m\u001b[37m\u001b[0m \u001b[1m0s\u001b[0m 5ms/step \n",
      "              precision    recall  f1-score   support\n",
      "\n",
      "           0       0.85      0.77      0.81       104\n",
      "           1       0.60      0.72      0.65        50\n",
      "\n",
      "    accuracy                           0.75       154\n",
      "   macro avg       0.73      0.74      0.73       154\n",
      "weighted avg       0.77      0.75      0.76       154\n",
      "\n",
      "ROC AUC: 0.8155769230769231\n"
     ]
    },
    {
     "data": {
      "image/png": "[encoded data removed]",
      "text/plain": [
       "<Figure size 640x480 with 2 Axes>"
      ]
     },
     "metadata": {},
     "output_type": "display_data"
    },
    {
     "data": {
      "image/png": "[encoded data removed]",
      "text/plain": [
       "<Figure size 640x480 with 1 Axes>"
      ]
     },
     "metadata": {},
     "output_type": "display_data"
    }
   ],
   "source": [
    "# Predict & Evaluate\n",
    "y_pred_proba = model.predict(X_test)\n",
    "y_pred = (y_pred_proba > 0.5).astype(\"int32\")\n",
    "\n",
    "print(classification_report(y_test, y_pred))\n",
    "print(\"ROC AUC:\", roc_auc_score(y_test, y_pred_proba))\n",
    "\n",
    "# Confusion matrix\n",
    "sns.heatmap(confusion_matrix(y_test, y_pred), annot=True, fmt='d', cmap='Blues')\n",
    "plt.title(\"Confusion Matrix\")\n",
    "plt.show()\n",
    "\n",
    "# ROC Curve\n",
    "fpr, tpr, _ = roc_curve(y_test, y_pred_proba)\n",
    "plt.plot(fpr, tpr, label=f\"AUC = {roc_auc_score(y_test, y_pred_proba):.2f}\")\n",
    "plt.xlabel(\"False Positive Rate\")\n",
    "plt.ylabel(\"True Positive Rate\")\n",
    "plt.legend()\n",
    "plt.title(\"ROC Curve\")\n",
    "plt.grid()\n",
    "plt.show()\n"
   ]
  },
  {
   "cell_type": "code",
   "execution_count": 46,
   "id": "48a6ca79-dfb6-4e73-9b66-aa3c22596747",
   "metadata": {},
   "outputs": [
    {
     "name": "stdout",
     "output_type": "stream",
     "text": [
      "Best epoch: 100\n"
     ]
    }
   ],
   "source": [
    "best_epoch = np.argmax(history.history['val_auc']) + 1\n",
    "print(f\"Best epoch: {best_epoch}\")"
   ]
  },
  {
   "cell_type": "code",
   "execution_count": 47,
   "id": "138a79d4-bb28-48dd-892a-9fb910ef9521",
   "metadata": {},
   "outputs": [
    {
     "name": "stdout",
     "output_type": "stream",
     "text": [
      "\u001b[1m5/5\u001b[0m \u001b[32m━━━━━━━━━━━━━━━━━━━━\u001b[0m\u001b[37m\u001b[0m \u001b[1m0s\u001b[0m 2ms/step \n",
      "Threshold: 0.1\n",
      "              precision    recall  f1-score   support\n",
      "\n",
      "           0       0.91      0.39      0.55       104\n",
      "           1       0.42      0.92      0.58        50\n",
      "\n",
      "    accuracy                           0.56       154\n",
      "   macro avg       0.67      0.66      0.56       154\n",
      "weighted avg       0.75      0.56      0.56       154\n",
      "\n",
      "Threshold: 0.15000000000000002\n",
      "              precision    recall  f1-score   support\n",
      "\n",
      "           0       0.90      0.43      0.58       104\n",
      "           1       0.43      0.90      0.58        50\n",
      "\n",
      "    accuracy                           0.58       154\n",
      "   macro avg       0.67      0.67      0.58       154\n",
      "weighted avg       0.75      0.58      0.58       154\n",
      "\n",
      "Threshold: 0.20000000000000004\n",
      "              precision    recall  f1-score   support\n",
      "\n",
      "           0       0.88      0.51      0.65       104\n",
      "           1       0.46      0.86      0.60        50\n",
      "\n",
      "    accuracy                           0.62       154\n",
      "   macro avg       0.67      0.68      0.62       154\n",
      "weighted avg       0.75      0.62      0.63       154\n",
      "\n",
      "Threshold: 0.25000000000000006\n",
      "              precision    recall  f1-score   support\n",
      "\n",
      "           0       0.86      0.58      0.69       104\n",
      "           1       0.48      0.80      0.60        50\n",
      "\n",
      "    accuracy                           0.65       154\n",
      "   macro avg       0.67      0.69      0.64       154\n",
      "weighted avg       0.73      0.65      0.66       154\n",
      "\n",
      "Threshold: 0.30000000000000004\n",
      "              precision    recall  f1-score   support\n",
      "\n",
      "           0       0.87      0.62      0.73       104\n",
      "           1       0.51      0.80      0.62        50\n",
      "\n",
      "    accuracy                           0.68       154\n",
      "   macro avg       0.69      0.71      0.67       154\n",
      "weighted avg       0.75      0.68      0.69       154\n",
      "\n",
      "Threshold: 0.3500000000000001\n",
      "              precision    recall  f1-score   support\n",
      "\n",
      "           0       0.86      0.65      0.74       104\n",
      "           1       0.52      0.78      0.62        50\n",
      "\n",
      "    accuracy                           0.69       154\n",
      "   macro avg       0.69      0.72      0.68       154\n",
      "weighted avg       0.75      0.69      0.70       154\n",
      "\n",
      "Threshold: 0.40000000000000013\n",
      "              precision    recall  f1-score   support\n",
      "\n",
      "           0       0.87      0.68      0.76       104\n",
      "           1       0.54      0.78      0.64        50\n",
      "\n",
      "    accuracy                           0.71       154\n",
      "   macro avg       0.70      0.73      0.70       154\n",
      "weighted avg       0.76      0.71      0.72       154\n",
      "\n",
      "Threshold: 0.4500000000000001\n",
      "              precision    recall  f1-score   support\n",
      "\n",
      "           0       0.85      0.71      0.77       104\n",
      "           1       0.55      0.74      0.63        50\n",
      "\n",
      "    accuracy                           0.72       154\n",
      "   macro avg       0.70      0.73      0.70       154\n",
      "weighted avg       0.75      0.72      0.73       154\n",
      "\n",
      "Threshold: 0.5000000000000001\n",
      "              precision    recall  f1-score   support\n",
      "\n",
      "           0       0.85      0.77      0.81       104\n",
      "           1       0.60      0.72      0.65        50\n",
      "\n",
      "    accuracy                           0.75       154\n",
      "   macro avg       0.73      0.74      0.73       154\n",
      "weighted avg       0.77      0.75      0.76       154\n",
      "\n",
      "Threshold: 0.5500000000000002\n",
      "              precision    recall  f1-score   support\n",
      "\n",
      "           0       0.85      0.81      0.83       104\n",
      "           1       0.64      0.70      0.67        50\n",
      "\n",
      "    accuracy                           0.77       154\n",
      "   macro avg       0.74      0.75      0.75       154\n",
      "weighted avg       0.78      0.77      0.78       154\n",
      "\n",
      "Threshold: 0.6000000000000002\n",
      "              precision    recall  f1-score   support\n",
      "\n",
      "           0       0.84      0.84      0.84       104\n",
      "           1       0.67      0.68      0.67        50\n",
      "\n",
      "    accuracy                           0.79       154\n",
      "   macro avg       0.76      0.76      0.76       154\n",
      "weighted avg       0.79      0.79      0.79       154\n",
      "\n",
      "Threshold: 0.6500000000000001\n",
      "              precision    recall  f1-score   support\n",
      "\n",
      "           0       0.82      0.87      0.84       104\n",
      "           1       0.68      0.60      0.64        50\n",
      "\n",
      "    accuracy                           0.78       154\n",
      "   macro avg       0.75      0.73      0.74       154\n",
      "weighted avg       0.77      0.78      0.78       154\n",
      "\n",
      "Threshold: 0.7000000000000002\n",
      "              precision    recall  f1-score   support\n",
      "\n",
      "           0       0.82      0.89      0.86       104\n",
      "           1       0.73      0.60      0.66        50\n",
      "\n",
      "    accuracy                           0.80       154\n",
      "   macro avg       0.78      0.75      0.76       154\n",
      "weighted avg       0.79      0.80      0.79       154\n",
      "\n",
      "Threshold: 0.7500000000000002\n",
      "              precision    recall  f1-score   support\n",
      "\n",
      "           0       0.80      0.90      0.85       104\n",
      "           1       0.73      0.54      0.62        50\n",
      "\n",
      "    accuracy                           0.79       154\n",
      "   macro avg       0.77      0.72      0.74       154\n",
      "weighted avg       0.78      0.79      0.78       154\n",
      "\n",
      "Threshold: 0.8000000000000003\n",
      "              precision    recall  f1-score   support\n",
      "\n",
      "           0       0.78      0.93      0.85       104\n",
      "           1       0.77      0.46      0.57        50\n",
      "\n",
      "    accuracy                           0.78       154\n",
      "   macro avg       0.77      0.70      0.71       154\n",
      "weighted avg       0.78      0.78      0.76       154\n",
      "\n",
      "Threshold: 0.8500000000000003\n",
      "              precision    recall  f1-score   support\n",
      "\n",
      "           0       0.75      0.97      0.85       104\n",
      "           1       0.84      0.32      0.46        50\n",
      "\n",
      "    accuracy                           0.76       154\n",
      "   macro avg       0.80      0.65      0.65       154\n",
      "weighted avg       0.78      0.76      0.72       154\n",
      "\n"
     ]
    }
   ],
   "source": [
    "y_probs = model.predict(X_test)\n",
    "thresholds = np.arange(0.1, 0.9, 0.05)\n",
    "\n",
    "for thresh in thresholds:\n",
    "    y_pred_thresh = (y_probs >= thresh).astype(int)\n",
    "    print(f\"Threshold: {thresh}\")\n",
    "    print(classification_report(y_test, y_pred_thresh))\n"
   ]
  },
  {
   "cell_type": "code",
   "execution_count": 48,
   "id": "a93f95a3-144f-43b9-9838-3a833f020507",
   "metadata": {},
   "outputs": [
    {
     "data": {
      "image/png": "[encoded data removed]",
      "text/plain": [
       "<Figure size 640x480 with 1 Axes>"
      ]
     },
     "metadata": {},
     "output_type": "display_data"
    },
    {
     "name": "stdout",
     "output_type": "stream",
     "text": [
      "📌 Best threshold based on F1 score: 0.5999999999999998\n"
     ]
    }
   ],
   "source": [
    "from sklearn.metrics import f1_score\n",
    "\n",
    "f1_scores = []\n",
    "thresholds = np.arange(0.1, 0.9, 0.01)\n",
    "\n",
    "for t in thresholds:\n",
    "    preds = (y_probs >= t).astype(int)\n",
    "    f1_scores.append(f1_score(y_test, preds))\n",
    "\n",
    "plt.plot(thresholds, f1_scores)\n",
    "plt.title(\"F1 Score vs. Threshold\")\n",
    "plt.xlabel(\"Threshold\")\n",
    "plt.ylabel(\"F1 Score\")\n",
    "plt.grid()\n",
    "plt.show()\n",
    "\n",
    "best_thresh = thresholds[np.argmax(f1_scores)]\n",
    "print(f\"📌 Best threshold based on F1 score: {best_thresh}\")\n"
   ]
  },
  {
   "cell_type": "code",
   "execution_count": 50,
   "id": "0ed39e19-3d3c-4bb0-801a-cadab5e40849",
   "metadata": {},
   "outputs": [],
   "source": [
    "model.save(\"diabetes_predictor_model.keras\")\n"
   ]
  },
  {
   "cell_type": "code",
   "execution_count": 51,
   "id": "a0cdc0b7-993b-4145-9b8a-d801031d586b",
   "metadata": {},
   "outputs": [
    {
     "name": "stderr",
     "output_type": "stream",
     "text": [
      "WARNING:absl:You are saving your model as an HDF5 file via `model.save()` or `keras.saving.save_model(model)`. This file format is considered legacy. We recommend using instead the native Keras format, e.g. `model.save('my_model.keras')` or `keras.saving.save_model(model, 'my_model.keras')`. \n"
     ]
    }
   ],
   "source": [
    "model.save(\"diabetes_predictor_model.h5\")"
   ]
  },
  {
   "cell_type": "code",
   "execution_count": null,
   "id": "e2094b9e-b7a5-4f64-a8c7-6021032c0a0d",
   "metadata": {},
   "outputs": [],
   "source": []
  }
 ],
 "metadata": {
  "kernelspec": {
   "display_name": "Python 3 (ipykernel)",
   "language": "python",
   "name": "python3"
  },
  "language_info": {
   "codemirror_mode": {
    "name": "ipython",
    "version": 3
   },
   "file_extension": ".py",
   "mimetype": "text/x-python",
   "name": "python",
   "nbconvert_exporter": "python",
   "pygments_lexer": "ipython3",
   "version": "3.12.4"
  }
 },
 "nbformat": 4,
 "nbformat_minor": 5
}
